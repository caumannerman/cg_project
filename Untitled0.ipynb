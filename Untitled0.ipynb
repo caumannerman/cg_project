{
  "nbformat": 4,
  "nbformat_minor": 0,
  "metadata": {
    "colab": {
      "provenance": [],
      "authorship_tag": "ABX9TyM8iO42by7yD1Z/AZbHc0lF",
      "include_colab_link": true
    },
    "kernelspec": {
      "name": "python3",
      "display_name": "Python 3"
    },
    "language_info": {
      "name": "python"
    },
    "accelerator": "GPU",
    "gpuClass": "standard"
  },
  "cells": [
    {
      "cell_type": "markdown",
      "metadata": {
        "id": "view-in-github",
        "colab_type": "text"
      },
      "source": [
        "<a href=\"https://colab.research.google.com/github/caumannerman/cg_project/blob/main/Untitled0.ipynb\" target=\"_parent\"><img src=\"https://colab.research.google.com/assets/colab-badge.svg\" alt=\"Open In Colab\"/></a>"
      ]
    },
    {
      "cell_type": "code",
      "execution_count": 98,
      "metadata": {
        "colab": {
          "base_uri": "https://localhost:8080/"
        },
        "id": "iUPWWBxsYZ9A",
        "outputId": "4437ab18-9c6f-4eda-e0e0-4b7ecf4af052"
      },
      "outputs": [
        {
          "output_type": "stream",
          "name": "stdout",
          "text": [
            "Looking in indexes: https://pypi.org/simple, https://us-python.pkg.dev/colab-wheels/public/simple/\n",
            "Requirement already satisfied: finance-datareader in /usr/local/lib/python3.8/dist-packages (0.9.50)\n",
            "Requirement already satisfied: tqdm in /usr/local/lib/python3.8/dist-packages (from finance-datareader) (4.64.1)\n",
            "Requirement already satisfied: lxml in /usr/local/lib/python3.8/dist-packages (from finance-datareader) (4.9.2)\n",
            "Requirement already satisfied: requests>=2.3.0 in /usr/local/lib/python3.8/dist-packages (from finance-datareader) (2.25.1)\n",
            "Requirement already satisfied: requests-file in /usr/local/lib/python3.8/dist-packages (from finance-datareader) (1.5.1)\n",
            "Requirement already satisfied: pandas>=0.19.2 in /usr/local/lib/python3.8/dist-packages (from finance-datareader) (1.3.5)\n",
            "Requirement already satisfied: numpy>=1.17.3 in /usr/local/lib/python3.8/dist-packages (from pandas>=0.19.2->finance-datareader) (1.21.6)\n",
            "Requirement already satisfied: pytz>=2017.3 in /usr/local/lib/python3.8/dist-packages (from pandas>=0.19.2->finance-datareader) (2022.7)\n",
            "Requirement already satisfied: python-dateutil>=2.7.3 in /usr/local/lib/python3.8/dist-packages (from pandas>=0.19.2->finance-datareader) (2.8.2)\n",
            "Requirement already satisfied: certifi>=2017.4.17 in /usr/local/lib/python3.8/dist-packages (from requests>=2.3.0->finance-datareader) (2022.12.7)\n",
            "Requirement already satisfied: chardet<5,>=3.0.2 in /usr/local/lib/python3.8/dist-packages (from requests>=2.3.0->finance-datareader) (4.0.0)\n",
            "Requirement already satisfied: urllib3<1.27,>=1.21.1 in /usr/local/lib/python3.8/dist-packages (from requests>=2.3.0->finance-datareader) (1.24.3)\n",
            "Requirement already satisfied: idna<3,>=2.5 in /usr/local/lib/python3.8/dist-packages (from requests>=2.3.0->finance-datareader) (2.10)\n",
            "Requirement already satisfied: six in /usr/local/lib/python3.8/dist-packages (from requests-file->finance-datareader) (1.15.0)\n",
            "Looking in indexes: https://pypi.org/simple, https://us-python.pkg.dev/colab-wheels/public/simple/\n",
            "Requirement already satisfied: beautifulsoup4 in /usr/local/lib/python3.8/dist-packages (4.6.3)\n",
            "Looking in indexes: https://pypi.org/simple, https://us-python.pkg.dev/colab-wheels/public/simple/\n",
            "Requirement already satisfied: pykrx in /usr/local/lib/python3.8/dist-packages (1.0.39)\n",
            "Requirement already satisfied: datetime in /usr/local/lib/python3.8/dist-packages (from pykrx) (4.9)\n",
            "Requirement already satisfied: pandas in /usr/local/lib/python3.8/dist-packages (from pykrx) (1.3.5)\n",
            "Requirement already satisfied: requests in /usr/local/lib/python3.8/dist-packages (from pykrx) (2.25.1)\n",
            "Requirement already satisfied: numpy in /usr/local/lib/python3.8/dist-packages (from pykrx) (1.21.6)\n",
            "Requirement already satisfied: xlrd in /usr/local/lib/python3.8/dist-packages (from pykrx) (1.2.0)\n",
            "Requirement already satisfied: deprecated in /usr/local/lib/python3.8/dist-packages (from pykrx) (1.2.13)\n",
            "Requirement already satisfied: pytz in /usr/local/lib/python3.8/dist-packages (from datetime->pykrx) (2022.7)\n",
            "Requirement already satisfied: zope.interface in /usr/local/lib/python3.8/dist-packages (from datetime->pykrx) (5.5.2)\n",
            "Requirement already satisfied: wrapt<2,>=1.10 in /usr/local/lib/python3.8/dist-packages (from deprecated->pykrx) (1.14.1)\n",
            "Requirement already satisfied: python-dateutil>=2.7.3 in /usr/local/lib/python3.8/dist-packages (from pandas->pykrx) (2.8.2)\n",
            "Requirement already satisfied: urllib3<1.27,>=1.21.1 in /usr/local/lib/python3.8/dist-packages (from requests->pykrx) (1.24.3)\n",
            "Requirement already satisfied: idna<3,>=2.5 in /usr/local/lib/python3.8/dist-packages (from requests->pykrx) (2.10)\n",
            "Requirement already satisfied: chardet<5,>=3.0.2 in /usr/local/lib/python3.8/dist-packages (from requests->pykrx) (4.0.0)\n",
            "Requirement already satisfied: certifi>=2017.4.17 in /usr/local/lib/python3.8/dist-packages (from requests->pykrx) (2022.12.7)\n",
            "Requirement already satisfied: six>=1.5 in /usr/local/lib/python3.8/dist-packages (from python-dateutil>=2.7.3->pandas->pykrx) (1.15.0)\n",
            "Requirement already satisfied: setuptools in /usr/local/lib/python3.8/dist-packages (from zope.interface->datetime->pykrx) (57.4.0)\n"
          ]
        }
      ],
      "source": [
        "!pip install -U finance-datareader\n",
        "!pip install beautifulsoup4\n",
        "!pip install pykrx\n",
        "import pandas as pd\n",
        "import numpy as np\n",
        "import FinanceDataReader as fdr\n",
        "import matplotlib.pyplot as plt\n",
        "from pykrx import stock\n",
        "import requests\n",
        "from io import BytesIO\n",
        "from google.colab import data_table\n",
        "\n"
      ]
    },
    {
      "cell_type": "code",
      "source": [
        "# 헤더 부분에 리퍼러(Referer)를 추가\n",
        "# 리퍼러란 링크를 통해서 각각의 웹사이트로 방문할 때 남은 흔적(로봇으로 인식하지 않기 위해)\n",
        "# generate.cmd에서 Request URL 가져오기\n",
        "gen_otp_url = 'https://data.krx.co.kr/comm/fileDn/GenerateOTP/generate.cmd'\n",
        "\n",
        "headers = {'Referer': 'http://data.krx.co.kr/contents/MDC/MDI/mdiLoader'}\n",
        "otp = requests.post(gen_otp_url, gen_otp_data, headers=headers).text\n",
        "\n",
        "# download.cmd에서 General의 Request URL 부분\n",
        "down_url = 'https://data.krx.co.kr/comm/fileDn/download_csv/download.cmd'\n",
        "\n",
        "# requests Module의 post함수를 사용 해당 url에 접속하여 otp코드 제출\n",
        "down_sector_KS = requests.post(down_url, {'code': otp}, headers=headers)\n",
        "\n",
        "# 다운 받은 csv파일을 pandas의 read_csv 함수로 불러오기\n",
        "# read_csv 함수의 argment에 적합할 수 있도록 ByteIO 함수를 이용하여 바이너리 스트림 형태로 만든다\n",
        "sector_KS = pd.read_csv(BytesIO(down_sector_KS.content), encoding='EUC-KR')"
      ],
      "metadata": {
        "id": "XfmTN3t2g122"
      },
      "execution_count": 92,
      "outputs": []
    },
    {
      "cell_type": "code",
      "source": [
        "# generate.cmd에서 Form Data와 동일\n",
        "Total_data=pd.DataFrame()\n",
        "\n",
        "headers = {'Referer': 'http://data.krx.co.kr/contents/MDC/MDI/mdiLoader'} \n",
        "# service_arr = []\n",
        "# guitar_arr = []\n",
        "one_month_data_dict = dict()\n",
        "\n",
        "\n",
        "for i in range(20221201,20221231):\n",
        "    gen_otp_data={\n",
        "        'locale': 'ko_KR',\n",
        "        'mktId': 'STK',\n",
        "        'trdDd': str(i),\n",
        "        'money': '1',\n",
        "        'csvxls_isNo': 'false',\n",
        "        'name': 'fileDown',\n",
        "        'url': 'dbms/MDC/STAT/standard/MDCSTAT03901'\n",
        "    }\n",
        "    otp = requests.post(gen_otp_url, gen_otp_data, headers=headers).text\n",
        "    down_sector_KS = requests.post(down_url, {'code': otp}, headers=headers)\n",
        "    \n",
        "    sector_KS = pd.read_csv(BytesIO(down_sector_KS.content), encoding='EUC-KR')\n",
        "    sector_KS=sector_KS.dropna()\n",
        "    sector_data=sector_KS[[\"종목코드\", \"종목명\",\"업종명\",\"등락률\"]]\n",
        "    sector_data\n",
        "    print(sector_data)\n",
        "\n",
        "    # 윗줄까지 해서, sector_KS는 하루치/ 당일 상장되어있는 모든 종목의 정보 다 담겨있음 - 완료\n",
        "    # 각 업종 별 평균 구해서 / 각 업종 별 일별 등락율 평균 담을 배열에 추가\n",
        "    #a b c d\n",
        "    #for j in (len(업종 다 들어있는 리스트)): \n",
        "    #one_month_data_dict[\"서비스업\"].append(방금 구한 평균)\n",
        "    #Total_data = pd.concat([Total_data, sector_KS], ignore_index=False)"
      ],
      "metadata": {
        "colab": {
          "base_uri": "https://localhost:8080/"
        },
        "id": "yM8iIc5Of9xz",
        "outputId": "29b208e7-5eaf-478c-fb07-f43345580599"
      },
      "execution_count": 120,
      "outputs": [
        {
          "output_type": "stream",
          "name": "stdout",
          "text": [
            "       종목코드      종목명    업종명    등락률\n",
            "0    095570   AJ네트웍스   서비스업  -0.16\n",
            "1    006840    AK홀딩스   기타금융   2.97\n",
            "2    027410      BGF   기타금융   1.37\n",
            "3    282330   BGF리테일    유통업  -4.38\n",
            "4    138930  BNK금융지주   기타금융   0.68\n",
            "..      ...      ...    ...    ...\n",
            "937  005010      휴스틸   철강금속  -1.11\n",
            "938  000540     흥국화재     보험  -0.16\n",
            "939  000547  흥국화재2우B     보험  10.88\n",
            "940  000545    흥국화재우     보험   6.15\n",
            "941  003280     흥아해운  운수창고업  -0.92\n",
            "\n",
            "[942 rows x 4 columns]\n",
            "       종목코드      종목명    업종명   등락률\n",
            "0    095570   AJ네트웍스   서비스업  0.49\n",
            "1    006840    AK홀딩스   기타금융  5.77\n",
            "2    027410      BGF   기타금융 -0.11\n",
            "3    282330   BGF리테일    유통업 -0.76\n",
            "4    138930  BNK금융지주   기타금융 -0.67\n",
            "..      ...      ...    ...   ...\n",
            "937  005010      휴스틸   철강금속 -0.93\n",
            "938  000540     흥국화재     보험 -0.47\n",
            "939  000547  흥국화재2우B     보험 -5.61\n",
            "940  000545    흥국화재우     보험 -2.19\n",
            "941  003280     흥아해운  운수창고업 -0.93\n",
            "\n",
            "[942 rows x 4 columns]\n",
            "Empty DataFrame\n",
            "Columns: [종목코드, 종목명, 업종명, 등락률]\n",
            "Index: []\n",
            "Empty DataFrame\n",
            "Columns: [종목코드, 종목명, 업종명, 등락률]\n",
            "Index: []\n",
            "       종목코드      종목명    업종명   등락률\n",
            "0    095570   AJ네트웍스   서비스업 -1.14\n",
            "1    006840    AK홀딩스   기타금융  0.30\n",
            "2    027410      BGF   기타금융 -0.23\n",
            "3    282330   BGF리테일    유통업  0.51\n",
            "4    138930  BNK금융지주   기타금융 -1.49\n",
            "..      ...      ...    ...   ...\n",
            "937  005010      휴스틸   철강금속 -0.94\n",
            "938  000540     흥국화재     보험  0.79\n",
            "939  000547  흥국화재2우B     보험 -2.97\n",
            "940  000545    흥국화재우     보험  0.64\n",
            "941  003280     흥아해운  운수창고업  0.94\n",
            "\n",
            "[942 rows x 4 columns]\n",
            "       종목코드      종목명    업종명   등락률\n",
            "0    095570   AJ네트웍스   서비스업 -2.15\n",
            "1    006840    AK홀딩스   기타금융 -0.30\n",
            "2    027410      BGF   기타금융 -2.15\n",
            "3    282330   BGF리테일    유통업  5.61\n",
            "4    138930  BNK금융지주   기타금융 -0.55\n",
            "..      ...      ...    ...   ...\n",
            "937  005010      휴스틸   철강금속 -0.19\n",
            "938  000540     흥국화재     보험 -0.63\n",
            "939  000547  흥국화재2우B     보험 -0.26\n",
            "940  000545    흥국화재우     보험 -2.23\n",
            "941  003280     흥아해운  운수창고업 -3.11\n",
            "\n",
            "[942 rows x 4 columns]\n",
            "       종목코드      종목명    업종명   등락률\n",
            "0    095570   AJ네트웍스   서비스업 -2.02\n",
            "1    006840    AK홀딩스   기타금융  5.15\n",
            "2    027410      BGF   기타금융 -3.48\n",
            "3    282330   BGF리테일    유통업 -0.97\n",
            "4    138930  BNK금융지주   기타금융 -0.55\n",
            "..      ...      ...    ...   ...\n",
            "937  005010      휴스틸   철강금속 -2.86\n",
            "938  000540     흥국화재     보험 -2.06\n",
            "939  000547  흥국화재2우B     보험 -1.79\n",
            "940  000545    흥국화재우     보험  1.63\n",
            "941  003280     흥아해운  운수창고업 -2.56\n",
            "\n",
            "[942 rows x 4 columns]\n",
            "       종목코드      종목명    업종명   등락률\n",
            "0    095570   AJ네트웍스   서비스업 -0.52\n",
            "1    006840    AK홀딩스   기타금융 -0.86\n",
            "2    027410      BGF   기타금융 -2.28\n",
            "3    282330   BGF리테일    유통업 -0.73\n",
            "4    138930  BNK금융지주   기타금융 -0.56\n",
            "..      ...      ...    ...   ...\n",
            "937  005010      휴스틸   철강금속 -2.35\n",
            "938  000540     흥국화재     보험 -0.49\n",
            "939  000547  흥국화재2우B     보험  0.78\n",
            "940  000545    흥국화재우     보험 -0.32\n",
            "941  003280     흥아해운  운수창고업 -1.64\n",
            "\n",
            "[942 rows x 4 columns]\n",
            "       종목코드      종목명    업종명   등락률\n",
            "0    095570   AJ네트웍스   서비스업  0.35\n",
            "1    006840    AK홀딩스   기타금융  0.29\n",
            "2    027410      BGF   기타금융 -1.23\n",
            "3    282330   BGF리테일    유통업  0.74\n",
            "4    138930  BNK금융지주   기타금융  2.23\n",
            "..      ...      ...    ...   ...\n",
            "937  005010      휴스틸   철강금속  1.41\n",
            "938  000540     흥국화재     보험  0.81\n",
            "939  000547  흥국화재2우B     보험 -0.78\n",
            "940  000545    흥국화재우     보험  0.64\n",
            "941  003280     흥아해운  운수창고업  3.01\n",
            "\n",
            "[942 rows x 4 columns]\n",
            "Empty DataFrame\n",
            "Columns: [종목코드, 종목명, 업종명, 등락률]\n",
            "Index: []\n",
            "Empty DataFrame\n",
            "Columns: [종목코드, 종목명, 업종명, 등락률]\n",
            "Index: []\n",
            "       종목코드      종목명    업종명   등락률\n",
            "0    095570   AJ네트웍스   서비스업  1.55\n",
            "1    006840    AK홀딩스   기타금융  0.58\n",
            "2    027410      BGF   기타금융  1.12\n",
            "3    282330   BGF리테일    유통업  0.00\n",
            "4    138930  BNK금융지주   기타금융  0.14\n",
            "..      ...      ...    ...   ...\n",
            "937  005010      휴스틸   철강금속 -0.79\n",
            "938  000540     흥국화재     보험  0.32\n",
            "939  000547  흥국화재2우B     보험 -0.78\n",
            "940  000545    흥국화재우     보험 -0.32\n",
            "941  003280     흥아해운  운수창고업 -1.30\n",
            "\n",
            "[942 rows x 4 columns]\n",
            "       종목코드      종목명    업종명   등락률\n",
            "0    095570   AJ네트웍스   서비스업 -1.53\n",
            "1    006840    AK홀딩스   기타금융 -2.02\n",
            "2    027410      BGF   기타금융  0.62\n",
            "3    282330   BGF리테일    유통업  1.95\n",
            "4    138930  BNK금융지주   기타금융  0.27\n",
            "..      ...      ...    ...   ...\n",
            "937  005010      휴스틸   철강금속  0.20\n",
            "938  000540     흥국화재     보험  0.64\n",
            "939  000547  흥국화재2우B     보험 -0.52\n",
            "940  000545    흥국화재우     보험  2.56\n",
            "941  003280     흥아해운  운수창고업  1.97\n",
            "\n",
            "[942 rows x 4 columns]\n",
            "       종목코드      종목명    업종명   등락률\n",
            "0    095570   AJ네트웍스   서비스업  1.72\n",
            "1    006840    AK홀딩스   기타금융  0.00\n",
            "2    027410      BGF   기타금융  0.73\n",
            "3    282330   BGF리테일    유통업  0.00\n",
            "4    138930  BNK금융지주   기타금융 -0.14\n",
            "..      ...      ...    ...   ...\n",
            "937  005010      휴스틸   철강금속  2.19\n",
            "938  000540     흥국화재     보험  0.16\n",
            "939  000547  흥국화재2우B     보험 -1.06\n",
            "940  000545    흥국화재우     보험 -3.28\n",
            "941  003280     흥아해운  운수창고업 -0.32\n",
            "\n",
            "[942 rows x 4 columns]\n",
            "       종목코드      종목명    업종명   등락률\n",
            "0    095570   AJ네트웍스   서비스업 -0.85\n",
            "1    006840    AK홀딩스   기타금융  1.47\n",
            "2    027410      BGF   기타금융 -0.97\n",
            "3    282330   BGF리테일    유통업  1.20\n",
            "4    138930  BNK금융지주   기타금융 -1.09\n",
            "..      ...      ...    ...   ...\n",
            "937  005010      휴스틸   철강금속 -0.19\n",
            "938  000540     흥국화재     보험  0.16\n",
            "939  000547  흥국화재2우B     보험 -1.87\n",
            "940  000545    흥국화재우     보험  0.81\n",
            "941  003280     흥아해운  운수창고업 -0.32\n",
            "\n",
            "[942 rows x 4 columns]\n",
            "       종목코드      종목명    업종명   등락률\n",
            "0    095570   AJ네트웍스   서비스업  0.51\n",
            "1    006840    AK홀딩스   기타금융  2.03\n",
            "2    027410      BGF   기타금융  1.72\n",
            "3    282330   BGF리테일    유통업 -2.36\n",
            "4    138930  BNK금융지주   기타금융 -0.41\n",
            "..      ...      ...    ...   ...\n",
            "937  005010      휴스틸   철강금속 -1.56\n",
            "938  000540     흥국화재     보험  0.32\n",
            "939  000547  흥국화재2우B     보험 -2.45\n",
            "940  000545    흥국화재우     보험 -0.48\n",
            "941  003280     흥아해운  운수창고업 -0.32\n",
            "\n",
            "[942 rows x 4 columns]\n",
            "Empty DataFrame\n",
            "Columns: [종목코드, 종목명, 업종명, 등락률]\n",
            "Index: []\n",
            "Empty DataFrame\n",
            "Columns: [종목코드, 종목명, 업종명, 등락률]\n",
            "Index: []\n",
            "       종목코드      종목명    업종명   등락률\n",
            "0    095570   AJ네트웍스   서비스업  0.17\n",
            "1    006840    AK홀딩스   기타금융 -3.98\n",
            "2    027410      BGF   기타금융  3.01\n",
            "3    282330   BGF리테일    유통업  2.66\n",
            "4    138930  BNK금융지주   기타금융  0.55\n",
            "..      ...      ...    ...   ...\n",
            "937  005010      휴스틸   철강금속  1.59\n",
            "938  000540     흥국화재     보험  0.64\n",
            "939  000547  흥국화재2우B     보험 -2.23\n",
            "940  000545    흥국화재우     보험  1.61\n",
            "941  003280     흥아해운  운수창고업 -0.98\n",
            "\n",
            "[942 rows x 4 columns]\n",
            "       종목코드      종목명    업종명   등락률\n",
            "0    095570   AJ네트웍스   서비스업 -1.19\n",
            "1    006840    AK홀딩스   기타금융 -2.66\n",
            "2    027410      BGF   기타금융 -1.05\n",
            "3    282330   BGF리테일    유통업  0.47\n",
            "4    138930  BNK금융지주   기타금융  0.28\n",
            "..      ...      ...    ...   ...\n",
            "937  005010      휴스틸   철강금속 -0.98\n",
            "938  000540     흥국화재     보험  0.16\n",
            "939  000547  흥국화재2우B     보험 -0.28\n",
            "940  000545    흥국화재우     보험 -1.27\n",
            "941  003280     흥아해운  운수창고업 -1.97\n",
            "\n",
            "[942 rows x 4 columns]\n",
            "       종목코드      종목명    업종명   등락률\n",
            "0    095570   AJ네트웍스   서비스업  1.03\n",
            "1    006840    AK홀딩스   기타금융 -1.22\n",
            "2    027410      BGF   기타금융  0.95\n",
            "3    282330   BGF리테일    유통업 -0.23\n",
            "4    138930  BNK금융지주   기타금융  0.41\n",
            "..      ...      ...    ...   ...\n",
            "937  005010      휴스틸   철강금속  0.00\n",
            "938  000540     흥국화재     보험  0.16\n",
            "939  000547  흥국화재2우B     보험  1.14\n",
            "940  000545    흥국화재우     보험  1.76\n",
            "941  003280     흥아해운  운수창고업 -2.01\n",
            "\n",
            "[942 rows x 4 columns]\n",
            "       종목코드      종목명    업종명   등락률\n",
            "0    095570   AJ네트웍스   서비스업  0.00\n",
            "1    006840    AK홀딩스   기타금융  4.31\n",
            "2    027410      BGF   기타금융  2.69\n",
            "3    282330   BGF리테일    유통업 -1.41\n",
            "4    138930  BNK금융지주   기타금융 -0.14\n",
            "..      ...      ...    ...   ...\n",
            "938  005010      휴스틸   철강금속  0.99\n",
            "939  000540     흥국화재     보험  1.57\n",
            "940  000547  흥국화재2우B     보험 -0.28\n",
            "941  000545    흥국화재우     보험  1.10\n",
            "942  003280     흥아해운  운수창고업  3.77\n",
            "\n",
            "[943 rows x 4 columns]\n",
            "       종목코드      종목명    업종명   등락률\n",
            "0    095570   AJ네트웍스   서비스업 -2.55\n",
            "1    006840    AK홀딩스   기타금융 -0.29\n",
            "2    027410      BGF   기타금융 -1.37\n",
            "3    282330   BGF리테일    유통업 -1.43\n",
            "4    138930  BNK금융지주   기타금융 -0.82\n",
            "..      ...      ...    ...   ...\n",
            "938  005010      휴스틸   철강금속 -4.88\n",
            "939  000540     흥국화재     보험 -0.62\n",
            "940  000547  흥국화재2우B     보험  0.57\n",
            "941  000545    흥국화재우     보험 -1.56\n",
            "942  003280     흥아해운  운수창고업 -3.96\n",
            "\n",
            "[943 rows x 4 columns]\n",
            "Empty DataFrame\n",
            "Columns: [종목코드, 종목명, 업종명, 등락률]\n",
            "Index: []\n",
            "Empty DataFrame\n",
            "Columns: [종목코드, 종목명, 업종명, 등락률]\n",
            "Index: []\n",
            "       종목코드      종목명    업종명   등락률\n",
            "0    095570   AJ네트웍스   서비스업 -1.40\n",
            "1    006840    AK홀딩스   기타금융  0.00\n",
            "2    027410      BGF   기타금융 -0.69\n",
            "3    282330   BGF리테일    유통업 -0.97\n",
            "4    138930  BNK금융지주   기타금융 -0.14\n",
            "..      ...      ...    ...   ...\n",
            "938  005010      휴스틸   철강금속  3.08\n",
            "939  000540     흥국화재     보험 -0.16\n",
            "940  000547  흥국화재2우B     보험 -2.54\n",
            "941  000545    흥국화재우     보험  0.63\n",
            "942  003280     흥아해운  운수창고업 -3.09\n",
            "\n",
            "[943 rows x 4 columns]\n",
            "       종목코드      종목명    업종명   등락률\n",
            "0    095570   AJ네트웍스   서비스업  6.73\n",
            "1    006840    AK홀딩스   기타금융  2.37\n",
            "2    027410      BGF   기타금융  1.63\n",
            "3    282330   BGF리테일    유통업  1.96\n",
            "4    138930  BNK금융지주   기타금융  0.00\n",
            "..      ...      ...    ...   ...\n",
            "938  005010      휴스틸   철강금속  4.78\n",
            "939  000540     흥국화재     보험  0.94\n",
            "940  000547  흥국화재2우B     보험 -0.29\n",
            "941  000545    흥국화재우     보험 -1.57\n",
            "942  003280     흥아해운  운수창고업 -1.42\n",
            "\n",
            "[943 rows x 4 columns]\n",
            "       종목코드      종목명    업종명   등락률\n",
            "0    095570   AJ네트웍스   서비스업 -4.98\n",
            "1    006840    AK홀딩스   기타금융  0.29\n",
            "2    027410      BGF   기타금융 -0.46\n",
            "3    282330   BGF리테일    유통업  1.68\n",
            "4    138930  BNK금융지주   기타금융 -8.29\n",
            "..      ...      ...    ...   ...\n",
            "938  005010      휴스틸   철강금속 -3.23\n",
            "939  000540     흥국화재     보험  2.01\n",
            "940  000547  흥국화재2우B     보험 -1.74\n",
            "941  000545    흥국화재우     보험  0.00\n",
            "942  003280     흥아해운  운수창고업 -0.36\n",
            "\n",
            "[943 rows x 4 columns]\n",
            "       종목코드      종목명    업종명   등락률\n",
            "0    095570   AJ네트웍스   서비스업 -0.17\n",
            "1    006840    AK홀딩스   기타금융 -0.86\n",
            "2    027410      BGF   기타금융 -0.92\n",
            "3    282330   BGF리테일    유통업 -0.71\n",
            "4    138930  BNK금융지주   기타금융 -2.11\n",
            "..      ...      ...    ...   ...\n",
            "938  005010      휴스틸   철강금속 -0.39\n",
            "939  000540     흥국화재     보험  2.28\n",
            "940  000547  흥국화재2우B     보험 -4.42\n",
            "941  000545    흥국화재우     보험 -1.76\n",
            "942  003280     흥아해운  운수창고업 -2.17\n",
            "\n",
            "[943 rows x 4 columns]\n",
            "Empty DataFrame\n",
            "Columns: [종목코드, 종목명, 업종명, 등락률]\n",
            "Index: []\n"
          ]
        }
      ]
    },
    {
      "cell_type": "code",
      "source": [
        "sector_list = set()"
      ],
      "metadata": {
        "id": "zBJgm7WhjAM4"
      },
      "execution_count": 71,
      "outputs": []
    },
    {
      "cell_type": "code",
      "source": [
        "for i in range(len(sector_data)):\n",
        "  sector_list.add(sector_data.iloc[i]['업종명'])\n",
        "sector_list = list(sector_list)"
      ],
      "metadata": {
        "id": "eDsSpsYYjFKZ"
      },
      "execution_count": 72,
      "outputs": []
    },
    {
      "cell_type": "code",
      "source": [
        "print(sector_list)"
      ],
      "metadata": {
        "colab": {
          "base_uri": "https://localhost:8080/"
        },
        "id": "Jq5m4Wnoj5p8",
        "outputId": "72a36e73-c37e-47c1-8c98-f2e702d87f57"
      },
      "execution_count": 73,
      "outputs": [
        {
          "output_type": "stream",
          "name": "stdout",
          "text": [
            "['비금속광물', '서비스업', '화학', '음식료품', '증권', '의료정밀', '유통업', '건설업', '기타금융', '농업, 임업 및 어업', '운수장비', '전기전자', '의약품', '섬유의복', '철강금속', '은행', '보험', '종이목재', '광업', '운수창고업', '기계', '전기가스업', '통신업', '기타제조업']\n"
          ]
        }
      ]
    },
    {
      "cell_type": "code",
      "source": [
        "aaa = {}\n",
        "print(type(aaa))\n",
        "for i in range(len(sector_list)):\n",
        "  aaa[sector_list[i]] = []\n",
        "print(aaa)"
      ],
      "metadata": {
        "colab": {
          "base_uri": "https://localhost:8080/"
        },
        "id": "pXmQpsvI26Jz",
        "outputId": "c1de53cd-f29b-4567-c4ac-bacebfbb1be2"
      },
      "execution_count": 74,
      "outputs": [
        {
          "output_type": "stream",
          "name": "stdout",
          "text": [
            "<class 'dict'>\n",
            "{'비금속광물': [], '서비스업': [], '화학': [], '음식료품': [], '증권': [], '의료정밀': [], '유통업': [], '건설업': [], '기타금융': [], '농업, 임업 및 어업': [], '운수장비': [], '전기전자': [], '의약품': [], '섬유의복': [], '철강금속': [], '은행': [], '보험': [], '종이목재': [], '광업': [], '운수창고업': [], '기계': [], '전기가스업': [], '통신업': [], '기타제조업': []}\n"
          ]
        }
      ]
    },
    {
      "cell_type": "code",
      "source": [
        "sector_ave = dict()\n",
        "for i in range(len(sector_list)):\n",
        "  dr_ave[sector_list[i]] = []\n",
        "  #print(\"------------- \" + sector_list[i] + \"------------- \")\n",
        "\n",
        "for i in range(len(sector_list)):\n",
        "  \n",
        "  now_sector = sector_data.loc[sector_data[\"업종명\"] == sector_list[i] , :]\n",
        "  ave_result = now_sector[[\"등락률\"]].mean()\n",
        "  # print(type(ave_result))\n",
        "  # print(ave_result[0])\n",
        "  \n",
        "  dr_ave[sector_list[i]].append(ave_result[0])\n",
        "  # tp_business.append(ave_result)\n",
        "  # print(type(now_sector))\n",
        "  # print(now_sector)\n",
        "print(sector_ave)\n",
        "unsu = sector_data.loc[sector_data['업종명'] == \"운수창고업\" , :]\n",
        "\n"
      ],
      "metadata": {
        "colab": {
          "base_uri": "https://localhost:8080/"
        },
        "id": "d1WtJZ4gi5kX",
        "outputId": "49ac2aec-7ad9-4058-cb4e-80fa3592d26a"
      },
      "execution_count": 103,
      "outputs": [
        {
          "output_type": "stream",
          "name": "stdout",
          "text": [
            "{}\n"
          ]
        }
      ]
    },
    {
      "cell_type": "code",
      "source": [
        "tp = sector_data.loc[sector_data['업종명'] == \"운수창고업\" , :]\n",
        "print(type(tp))\n",
        "# print(tp)\n",
        "print(len(tp))\n",
        "print(tp[[\"등락률\"]].mean())\n",
        "# tp[[\"등락률\"]].iloc[0]"
      ],
      "metadata": {
        "colab": {
          "base_uri": "https://localhost:8080/"
        },
        "id": "EmSjz3TOpSNd",
        "outputId": "300088aa-fdb2-464f-c631-3e9f0ca7348e"
      },
      "execution_count": 67,
      "outputs": [
        {
          "output_type": "stream",
          "name": "stdout",
          "text": [
            "<class 'pandas.core.frame.DataFrame'>\n",
            "588\n",
            "등락률    0.049473\n",
            "dtype: float64\n"
          ]
        }
      ]
    },
    {
      "cell_type": "code",
      "source": [
        "len(tp)"
      ],
      "metadata": {
        "colab": {
          "base_uri": "https://localhost:8080/"
        },
        "id": "D3K7DzoTavTf",
        "outputId": "0be583ab-471a-4121-c4fb-d91ca3507f77"
      },
      "execution_count": 23,
      "outputs": [
        {
          "output_type": "execute_result",
          "data": {
            "text/plain": [
              "28"
            ]
          },
          "metadata": {},
          "execution_count": 23
        }
      ]
    },
    {
      "cell_type": "code",
      "source": [
        "elec=sector_data.loc[sector_data['업종명']==\"전기전자\", :]\n",
        "elec[[\"등락률\"]].iloc[0]"
      ],
      "metadata": {
        "colab": {
          "base_uri": "https://localhost:8080/"
        },
        "id": "1OWnFPnC1J49",
        "outputId": "d1d7c20d-b785-4ec2-e22a-ca12d25b5430"
      },
      "execution_count": 24,
      "outputs": [
        {
          "output_type": "execute_result",
          "data": {
            "text/plain": [
              "등락률    3.25\n",
              "Name: 20, dtype: float64"
            ]
          },
          "metadata": {},
          "execution_count": 24
        }
      ]
    },
    {
      "cell_type": "code",
      "source": [
        "len(elec)"
      ],
      "metadata": {
        "colab": {
          "base_uri": "https://localhost:8080/"
        },
        "id": "SItQKdro1bbE",
        "outputId": "65e58592-7ab1-4dcc-9fe4-3d0e39273492"
      },
      "execution_count": 25,
      "outputs": [
        {
          "output_type": "execute_result",
          "data": {
            "text/plain": [
              "76"
            ]
          },
          "metadata": {},
          "execution_count": 25
        }
      ]
    },
    {
      "cell_type": "code",
      "source": [
        "sum = 0\n",
        "for i in range(len(tp[[\"등락률\"]])):\n",
        "  sum += tp[[\"등락률\"]].iloc[i]\n",
        "avg_tp=sum / len(tp[[\"등락률\"]])\n",
        "avg_tp"
      ],
      "metadata": {
        "id": "CsT7DKVS1g-r",
        "colab": {
          "base_uri": "https://localhost:8080/"
        },
        "outputId": "f3093a89-98c5-4f9a-8e25-abb977cf1332"
      },
      "execution_count": 26,
      "outputs": [
        {
          "output_type": "execute_result",
          "data": {
            "text/plain": [
              "등락률    1.177143\n",
              "Name: 10, dtype: float64"
            ]
          },
          "metadata": {},
          "execution_count": 26
        }
      ]
    },
    {
      "cell_type": "code",
      "source": [
        "sector_list"
      ],
      "metadata": {
        "colab": {
          "base_uri": "https://localhost:8080/"
        },
        "id": "Jvj_OXX2yV9V",
        "outputId": "b5b8eb7a-ebdc-417d-8afa-28be09b7b046"
      },
      "execution_count": 27,
      "outputs": [
        {
          "output_type": "execute_result",
          "data": {
            "text/plain": [
              "['비금속광물',\n",
              " '서비스업',\n",
              " '화학',\n",
              " '음식료품',\n",
              " '증권',\n",
              " '의료정밀',\n",
              " '유통업',\n",
              " '건설업',\n",
              " '기타금융',\n",
              " '농업, 임업 및 어업',\n",
              " '운수장비',\n",
              " '전기전자',\n",
              " '의약품',\n",
              " '섬유의복',\n",
              " '철강금속',\n",
              " '은행',\n",
              " '보험',\n",
              " '종이목재',\n",
              " '광업',\n",
              " '운수창고업',\n",
              " '기계',\n",
              " '전기가스업',\n",
              " '통신업',\n",
              " '기타제조업']"
            ]
          },
          "metadata": {},
          "execution_count": 27
        }
      ]
    },
    {
      "cell_type": "code",
      "source": [
        "sum = 0\n",
        "for i in range(len(tp[[\"등락률\"]])):\n",
        "  sum += tp[[\"등락률\"]].iloc[i]\n",
        "avg_tp=sum / len(tp[[\"등락률\"]])\n",
        "avg_tp"
      ],
      "metadata": {
        "id": "LLwch66ki403",
        "colab": {
          "base_uri": "https://localhost:8080/"
        },
        "outputId": "8edc45ef-da04-4750-d310-caf09c609932"
      },
      "execution_count": null,
      "outputs": [
        {
          "output_type": "execute_result",
          "data": {
            "text/plain": [
              "등락률    1.177143\n",
              "Name: 10, dtype: float64"
            ]
          },
          "metadata": {},
          "execution_count": 57
        }
      ]
    },
    {
      "cell_type": "code",
      "source": [
        "tp = sector_data.loc[sector_data['업종명'] == \"\" , :]\n",
        "tp[[\"등락률\"]].iloc[0]"
      ],
      "metadata": {
        "colab": {
          "base_uri": "https://localhost:8080/",
          "height": 324
        },
        "id": "R0jzU47VbfIH",
        "outputId": "6a4b0ec8-3a7b-4fc0-8f75-572418337533"
      },
      "execution_count": 76,
      "outputs": [
        {
          "output_type": "error",
          "ename": "IndexError",
          "evalue": "ignored",
          "traceback": [
            "\u001b[0;31m---------------------------------------------------------------------------\u001b[0m",
            "\u001b[0;31mIndexError\u001b[0m                                Traceback (most recent call last)",
            "\u001b[0;32m<ipython-input-76-94132d81ea8d>\u001b[0m in \u001b[0;36m<module>\u001b[0;34m\u001b[0m\n\u001b[1;32m      1\u001b[0m \u001b[0mtp\u001b[0m \u001b[0;34m=\u001b[0m \u001b[0msector_data\u001b[0m\u001b[0;34m.\u001b[0m\u001b[0mloc\u001b[0m\u001b[0;34m[\u001b[0m\u001b[0msector_data\u001b[0m\u001b[0;34m[\u001b[0m\u001b[0;34m'업종명'\u001b[0m\u001b[0;34m]\u001b[0m \u001b[0;34m==\u001b[0m \u001b[0;34m\"\"\u001b[0m \u001b[0;34m,\u001b[0m \u001b[0;34m:\u001b[0m\u001b[0;34m]\u001b[0m\u001b[0;34m\u001b[0m\u001b[0;34m\u001b[0m\u001b[0m\n\u001b[0;32m----> 2\u001b[0;31m \u001b[0mtp\u001b[0m\u001b[0;34m[\u001b[0m\u001b[0;34m[\u001b[0m\u001b[0;34m\"등락률\"\u001b[0m\u001b[0;34m]\u001b[0m\u001b[0;34m]\u001b[0m\u001b[0;34m.\u001b[0m\u001b[0miloc\u001b[0m\u001b[0;34m[\u001b[0m\u001b[0;36m0\u001b[0m\u001b[0;34m]\u001b[0m\u001b[0;34m\u001b[0m\u001b[0;34m\u001b[0m\u001b[0m\n\u001b[0m",
            "\u001b[0;32m/usr/local/lib/python3.8/dist-packages/pandas/core/indexing.py\u001b[0m in \u001b[0;36m__getitem__\u001b[0;34m(self, key)\u001b[0m\n\u001b[1;32m    929\u001b[0m \u001b[0;34m\u001b[0m\u001b[0m\n\u001b[1;32m    930\u001b[0m             \u001b[0mmaybe_callable\u001b[0m \u001b[0;34m=\u001b[0m \u001b[0mcom\u001b[0m\u001b[0;34m.\u001b[0m\u001b[0mapply_if_callable\u001b[0m\u001b[0;34m(\u001b[0m\u001b[0mkey\u001b[0m\u001b[0;34m,\u001b[0m \u001b[0mself\u001b[0m\u001b[0;34m.\u001b[0m\u001b[0mobj\u001b[0m\u001b[0;34m)\u001b[0m\u001b[0;34m\u001b[0m\u001b[0;34m\u001b[0m\u001b[0m\n\u001b[0;32m--> 931\u001b[0;31m             \u001b[0;32mreturn\u001b[0m \u001b[0mself\u001b[0m\u001b[0;34m.\u001b[0m\u001b[0m_getitem_axis\u001b[0m\u001b[0;34m(\u001b[0m\u001b[0mmaybe_callable\u001b[0m\u001b[0;34m,\u001b[0m \u001b[0maxis\u001b[0m\u001b[0;34m=\u001b[0m\u001b[0maxis\u001b[0m\u001b[0;34m)\u001b[0m\u001b[0;34m\u001b[0m\u001b[0;34m\u001b[0m\u001b[0m\n\u001b[0m\u001b[1;32m    932\u001b[0m \u001b[0;34m\u001b[0m\u001b[0m\n\u001b[1;32m    933\u001b[0m     \u001b[0;32mdef\u001b[0m \u001b[0m_is_scalar_access\u001b[0m\u001b[0;34m(\u001b[0m\u001b[0mself\u001b[0m\u001b[0;34m,\u001b[0m \u001b[0mkey\u001b[0m\u001b[0;34m:\u001b[0m \u001b[0mtuple\u001b[0m\u001b[0;34m)\u001b[0m\u001b[0;34m:\u001b[0m\u001b[0;34m\u001b[0m\u001b[0;34m\u001b[0m\u001b[0m\n",
            "\u001b[0;32m/usr/local/lib/python3.8/dist-packages/pandas/core/indexing.py\u001b[0m in \u001b[0;36m_getitem_axis\u001b[0;34m(self, key, axis)\u001b[0m\n\u001b[1;32m   1564\u001b[0m \u001b[0;34m\u001b[0m\u001b[0m\n\u001b[1;32m   1565\u001b[0m             \u001b[0;31m# validate the location\u001b[0m\u001b[0;34m\u001b[0m\u001b[0;34m\u001b[0m\u001b[0;34m\u001b[0m\u001b[0m\n\u001b[0;32m-> 1566\u001b[0;31m             \u001b[0mself\u001b[0m\u001b[0;34m.\u001b[0m\u001b[0m_validate_integer\u001b[0m\u001b[0;34m(\u001b[0m\u001b[0mkey\u001b[0m\u001b[0;34m,\u001b[0m \u001b[0maxis\u001b[0m\u001b[0;34m)\u001b[0m\u001b[0;34m\u001b[0m\u001b[0;34m\u001b[0m\u001b[0m\n\u001b[0m\u001b[1;32m   1567\u001b[0m \u001b[0;34m\u001b[0m\u001b[0m\n\u001b[1;32m   1568\u001b[0m             \u001b[0;32mreturn\u001b[0m \u001b[0mself\u001b[0m\u001b[0;34m.\u001b[0m\u001b[0mobj\u001b[0m\u001b[0;34m.\u001b[0m\u001b[0m_ixs\u001b[0m\u001b[0;34m(\u001b[0m\u001b[0mkey\u001b[0m\u001b[0;34m,\u001b[0m \u001b[0maxis\u001b[0m\u001b[0;34m=\u001b[0m\u001b[0maxis\u001b[0m\u001b[0;34m)\u001b[0m\u001b[0;34m\u001b[0m\u001b[0;34m\u001b[0m\u001b[0m\n",
            "\u001b[0;32m/usr/local/lib/python3.8/dist-packages/pandas/core/indexing.py\u001b[0m in \u001b[0;36m_validate_integer\u001b[0;34m(self, key, axis)\u001b[0m\n\u001b[1;32m   1498\u001b[0m         \u001b[0mlen_axis\u001b[0m \u001b[0;34m=\u001b[0m \u001b[0mlen\u001b[0m\u001b[0;34m(\u001b[0m\u001b[0mself\u001b[0m\u001b[0;34m.\u001b[0m\u001b[0mobj\u001b[0m\u001b[0;34m.\u001b[0m\u001b[0m_get_axis\u001b[0m\u001b[0;34m(\u001b[0m\u001b[0maxis\u001b[0m\u001b[0;34m)\u001b[0m\u001b[0;34m)\u001b[0m\u001b[0;34m\u001b[0m\u001b[0;34m\u001b[0m\u001b[0m\n\u001b[1;32m   1499\u001b[0m         \u001b[0;32mif\u001b[0m \u001b[0mkey\u001b[0m \u001b[0;34m>=\u001b[0m \u001b[0mlen_axis\u001b[0m \u001b[0;32mor\u001b[0m \u001b[0mkey\u001b[0m \u001b[0;34m<\u001b[0m \u001b[0;34m-\u001b[0m\u001b[0mlen_axis\u001b[0m\u001b[0;34m:\u001b[0m\u001b[0;34m\u001b[0m\u001b[0;34m\u001b[0m\u001b[0m\n\u001b[0;32m-> 1500\u001b[0;31m             \u001b[0;32mraise\u001b[0m \u001b[0mIndexError\u001b[0m\u001b[0;34m(\u001b[0m\u001b[0;34m\"single positional indexer is out-of-bounds\"\u001b[0m\u001b[0;34m)\u001b[0m\u001b[0;34m\u001b[0m\u001b[0;34m\u001b[0m\u001b[0m\n\u001b[0m\u001b[1;32m   1501\u001b[0m \u001b[0;34m\u001b[0m\u001b[0m\n\u001b[1;32m   1502\u001b[0m     \u001b[0;31m# -------------------------------------------------------------------\u001b[0m\u001b[0;34m\u001b[0m\u001b[0;34m\u001b[0m\u001b[0;34m\u001b[0m\u001b[0m\n",
            "\u001b[0;31mIndexError\u001b[0m: single positional indexer is out-of-bounds"
          ]
        }
      ]
    },
    {
      "cell_type": "code",
      "source": [
        "def calc_average(dataFrame):\n",
        "  return 평균값"
      ],
      "metadata": {
        "id": "cKBbb0hdfA0f"
      },
      "execution_count": null,
      "outputs": []
    }
  ]
}