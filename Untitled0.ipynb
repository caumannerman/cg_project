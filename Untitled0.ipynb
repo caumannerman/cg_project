{
  "nbformat": 4,
  "nbformat_minor": 0,
  "metadata": {
    "colab": {
      "provenance": [],
      "authorship_tag": "ABX9TyN7AuLRNq4lCtSGhg5v1i47",
      "include_colab_link": true
    },
    "kernelspec": {
      "name": "python3",
      "display_name": "Python 3"
    },
    "language_info": {
      "name": "python"
    },
    "accelerator": "GPU",
    "gpuClass": "standard"
  },
  "cells": [
    {
      "cell_type": "markdown",
      "metadata": {
        "id": "view-in-github",
        "colab_type": "text"
      },
      "source": [
        "<a href=\"https://colab.research.google.com/github/caumannerman/cg_project/blob/main/Untitled0.ipynb\" target=\"_parent\"><img src=\"https://colab.research.google.com/assets/colab-badge.svg\" alt=\"Open In Colab\"/></a>"
      ]
    },
    {
      "cell_type": "code",
      "execution_count": 11,
      "metadata": {
        "colab": {
          "base_uri": "https://localhost:8080/"
        },
        "id": "iUPWWBxsYZ9A",
        "outputId": "51797325-9233-4bb0-ec22-2eb3bc19855f"
      },
      "outputs": [
        {
          "output_type": "stream",
          "name": "stdout",
          "text": [
            "Looking in indexes: https://pypi.org/simple, https://us-python.pkg.dev/colab-wheels/public/simple/\n",
            "Requirement already satisfied: finance-datareader in /usr/local/lib/python3.8/dist-packages (0.9.50)\n",
            "Requirement already satisfied: tqdm in /usr/local/lib/python3.8/dist-packages (from finance-datareader) (4.64.1)\n",
            "Requirement already satisfied: requests-file in /usr/local/lib/python3.8/dist-packages (from finance-datareader) (1.5.1)\n",
            "Requirement already satisfied: requests>=2.3.0 in /usr/local/lib/python3.8/dist-packages (from finance-datareader) (2.25.1)\n",
            "Requirement already satisfied: lxml in /usr/local/lib/python3.8/dist-packages (from finance-datareader) (4.9.2)\n",
            "Requirement already satisfied: pandas>=0.19.2 in /usr/local/lib/python3.8/dist-packages (from finance-datareader) (1.3.5)\n",
            "Requirement already satisfied: pytz>=2017.3 in /usr/local/lib/python3.8/dist-packages (from pandas>=0.19.2->finance-datareader) (2022.7)\n",
            "Requirement already satisfied: python-dateutil>=2.7.3 in /usr/local/lib/python3.8/dist-packages (from pandas>=0.19.2->finance-datareader) (2.8.2)\n",
            "Requirement already satisfied: numpy>=1.17.3 in /usr/local/lib/python3.8/dist-packages (from pandas>=0.19.2->finance-datareader) (1.21.6)\n",
            "Requirement already satisfied: idna<3,>=2.5 in /usr/local/lib/python3.8/dist-packages (from requests>=2.3.0->finance-datareader) (2.10)\n",
            "Requirement already satisfied: urllib3<1.27,>=1.21.1 in /usr/local/lib/python3.8/dist-packages (from requests>=2.3.0->finance-datareader) (1.24.3)\n",
            "Requirement already satisfied: chardet<5,>=3.0.2 in /usr/local/lib/python3.8/dist-packages (from requests>=2.3.0->finance-datareader) (4.0.0)\n",
            "Requirement already satisfied: certifi>=2017.4.17 in /usr/local/lib/python3.8/dist-packages (from requests>=2.3.0->finance-datareader) (2022.12.7)\n",
            "Requirement already satisfied: six in /usr/local/lib/python3.8/dist-packages (from requests-file->finance-datareader) (1.15.0)\n",
            "Looking in indexes: https://pypi.org/simple, https://us-python.pkg.dev/colab-wheels/public/simple/\n",
            "Requirement already satisfied: beautifulsoup4 in /usr/local/lib/python3.8/dist-packages (4.6.3)\n",
            "Looking in indexes: https://pypi.org/simple, https://us-python.pkg.dev/colab-wheels/public/simple/\n",
            "Requirement already satisfied: pykrx in /usr/local/lib/python3.8/dist-packages (1.0.39)\n",
            "Requirement already satisfied: pandas in /usr/local/lib/python3.8/dist-packages (from pykrx) (1.3.5)\n",
            "Requirement already satisfied: requests in /usr/local/lib/python3.8/dist-packages (from pykrx) (2.25.1)\n",
            "Requirement already satisfied: xlrd in /usr/local/lib/python3.8/dist-packages (from pykrx) (1.2.0)\n",
            "Requirement already satisfied: numpy in /usr/local/lib/python3.8/dist-packages (from pykrx) (1.21.6)\n",
            "Requirement already satisfied: deprecated in /usr/local/lib/python3.8/dist-packages (from pykrx) (1.2.13)\n",
            "Requirement already satisfied: datetime in /usr/local/lib/python3.8/dist-packages (from pykrx) (4.9)\n",
            "Requirement already satisfied: zope.interface in /usr/local/lib/python3.8/dist-packages (from datetime->pykrx) (5.5.2)\n",
            "Requirement already satisfied: pytz in /usr/local/lib/python3.8/dist-packages (from datetime->pykrx) (2022.7)\n",
            "Requirement already satisfied: wrapt<2,>=1.10 in /usr/local/lib/python3.8/dist-packages (from deprecated->pykrx) (1.14.1)\n",
            "Requirement already satisfied: python-dateutil>=2.7.3 in /usr/local/lib/python3.8/dist-packages (from pandas->pykrx) (2.8.2)\n",
            "Requirement already satisfied: chardet<5,>=3.0.2 in /usr/local/lib/python3.8/dist-packages (from requests->pykrx) (4.0.0)\n",
            "Requirement already satisfied: urllib3<1.27,>=1.21.1 in /usr/local/lib/python3.8/dist-packages (from requests->pykrx) (1.24.3)\n",
            "Requirement already satisfied: certifi>=2017.4.17 in /usr/local/lib/python3.8/dist-packages (from requests->pykrx) (2022.12.7)\n",
            "Requirement already satisfied: idna<3,>=2.5 in /usr/local/lib/python3.8/dist-packages (from requests->pykrx) (2.10)\n",
            "Requirement already satisfied: six>=1.5 in /usr/local/lib/python3.8/dist-packages (from python-dateutil>=2.7.3->pandas->pykrx) (1.15.0)\n",
            "Requirement already satisfied: setuptools in /usr/local/lib/python3.8/dist-packages (from zope.interface->datetime->pykrx) (57.4.0)\n"
          ]
        }
      ],
      "source": [
        "!pip install -U finance-datareader\n",
        "!pip install beautifulsoup4\n",
        "!pip install pykrx\n",
        "import pandas as pd\n",
        "import numpy as np\n",
        "import FinanceDataReader as fdr\n",
        "import matplotlib.pyplot as plt\n",
        "from pykrx import stock\n",
        "import requests\n",
        "from io import BytesIO\n",
        "\n"
      ]
    },
    {
      "cell_type": "code",
      "source": [
        "# 헤더 부분에 리퍼러(Referer)를 추가\n",
        "# 리퍼러란 링크를 통해서 각각의 웹사이트로 방문할 때 남은 흔적(로봇으로 인식하지 않기 위해)\n",
        "# generate.cmd에서 Request URL 가져오기\n",
        "gen_otp_url = 'https://data.krx.co.kr/comm/fileDn/GenerateOTP/generate.cmd'\n",
        "\n",
        "headers = {'Referer': 'http://data.krx.co.kr/contents/MDC/MDI/mdiLoader'}\n",
        "otp = requests.post(gen_otp_url, gen_otp_data, headers=headers).text\n",
        "\n",
        "# download.cmd에서 General의 Request URL 부분\n",
        "down_url = 'https://data.krx.co.kr/comm/fileDn/download_csv/download.cmd'\n",
        "\n",
        "# requests Module의 post함수를 사용 해당 url에 접속하여 otp코드 제출\n",
        "down_sector_KS = requests.post(down_url, {'code': otp}, headers=headers)\n",
        "\n",
        "# 다운 받은 csv파일을 pandas의 read_csv 함수로 불러오기\n",
        "# read_csv 함수의 argment에 적합할 수 있도록 ByteIO 함수를 이용하여 바이너리 스트림 형태로 만든다\n",
        "sector_KS = pd.read_csv(BytesIO(down_sector_KS.content), encoding='EUC-KR')"
      ],
      "metadata": {
        "id": "XfmTN3t2g122"
      },
      "execution_count": 8,
      "outputs": []
    },
    {
      "cell_type": "code",
      "source": [
        "# generate.cmd에서 Form Data와 동일\n",
        "Total_data=pd.DataFrame()\n",
        "\n",
        "headers = {'Referer': 'http://data.krx.co.kr/contents/MDC/MDI/mdiLoader'} \n",
        "# service_arr = []\n",
        "# guitar_arr = []\n",
        "one_month_data_dict = dict()\n",
        "\n",
        "\n",
        "for i in range(20221201,20221231):\n",
        "    gen_otp_data={\n",
        "        'locale': 'ko_KR',\n",
        "        'mktId': 'STK',\n",
        "        'trdDd': str(i),\n",
        "        'money': '1',\n",
        "        'csvxls_isNo': 'false',\n",
        "        'name': 'fileDown',\n",
        "        'url': 'dbms/MDC/STAT/standard/MDCSTAT03901'\n",
        "    }\n",
        "    otp = requests.post(gen_otp_url, gen_otp_data, headers=headers).text\n",
        "    down_sector_KS = requests.post(down_url, {'code': otp}, headers=headers)\n",
        "    \n",
        "    sector_KS = pd.read_csv(BytesIO(down_sector_KS.content), encoding='EUC-KR')\n",
        "    # 윗줄까지 해서, sector_KS는 하루치/ 당일 상장되어있는 모든 종목의 정보 다 담겨있음\n",
        "    # 각 업종 별 평균 구해서 / 각 업종 별 일별 등락율 평균 담을 배열에 추가\n",
        "    a b c d\n",
        "    for j in (len(업종 다 들어있는 리스트)): \n",
        "    one_month_data_dict[\"서비스업\"].append(방금 구한 평균)\n",
        "    Total_data = pd.concat([Total_data, sector_KS], ignore_index=False)\n",
        "    \n",
        "print(Total_data)\n",
        "print(type(Total_data))"
      ],
      "metadata": {
        "colab": {
          "base_uri": "https://localhost:8080/"
        },
        "id": "yM8iIc5Of9xz",
        "outputId": "7dfe75ef-de55-49d5-e169-46e91b14bebd"
      },
      "execution_count": 41,
      "outputs": [
        {
          "output_type": "stream",
          "name": "stdout",
          "text": [
            "       종목코드      종목명   시장구분    업종명        종가      대비   등락률          시가총액\n",
            "0    095570   AJ네트웍스  KOSPI   서비스업    6100.0   -10.0 -0.16  2.856160e+11\n",
            "1    006840    AK홀딩스  KOSPI   기타금융   15600.0   450.0  2.97  2.066620e+11\n",
            "2    027410      BGF  KOSPI   기타금융    4425.0    60.0  1.37  4.235468e+11\n",
            "3    282330   BGF리테일  KOSPI    유통업  196500.0 -9000.0 -4.38  3.396288e+12\n",
            "4    138930  BNK금융지주  KOSPI   기타금융    7440.0    50.0  0.68  2.424958e+12\n",
            "..      ...      ...    ...    ...       ...     ...   ...           ...\n",
            "938  005010      휴스틸  KOSPI   철강금속       NaN     NaN   NaN           NaN\n",
            "939  000540     흥국화재  KOSPI     보험       NaN     NaN   NaN           NaN\n",
            "940  000547  흥국화재2우B  KOSPI     보험       NaN     NaN   NaN           NaN\n",
            "941  000545    흥국화재우  KOSPI     보험       NaN     NaN   NaN           NaN\n",
            "942  003280     흥아해운  KOSPI  운수창고업       NaN     NaN   NaN           NaN\n",
            "\n",
            "[28269 rows x 8 columns]\n",
            "<class 'pandas.core.frame.DataFrame'>\n"
          ]
        }
      ]
    },
    {
      "cell_type": "code",
      "source": [
        "Total_data=Total_data.dropna()\n",
        "Total_data"
      ],
      "metadata": {
        "colab": {
          "base_uri": "https://localhost:8080/",
          "height": 419
        },
        "id": "xYYHxjGHhDTl",
        "outputId": "ebeac3e6-b12f-4c61-b06a-e2f8f96df8aa"
      },
      "execution_count": 45,
      "outputs": [
        {
          "output_type": "execute_result",
          "data": {
            "text/plain": [
              "       종목코드      종목명   시장구분    업종명        종가      대비   등락률          시가총액\n",
              "0    095570   AJ네트웍스  KOSPI   서비스업    6100.0   -10.0 -0.16  2.856160e+11\n",
              "1    006840    AK홀딩스  KOSPI   기타금융   15600.0   450.0  2.97  2.066620e+11\n",
              "2    027410      BGF  KOSPI   기타금융    4425.0    60.0  1.37  4.235468e+11\n",
              "3    282330   BGF리테일  KOSPI    유통업  196500.0 -9000.0 -4.38  3.396288e+12\n",
              "4    138930  BNK금융지주  KOSPI   기타금융    7440.0    50.0  0.68  2.424958e+12\n",
              "..      ...      ...    ...    ...       ...     ...   ...           ...\n",
              "938  005010      휴스틸  KOSPI   철강금속    5070.0   -20.0 -0.39  2.848735e+11\n",
              "939  000540     흥국화재  KOSPI     보험    3370.0    75.0  2.28  2.164977e+11\n",
              "940  000547  흥국화재2우B  KOSPI     보험   16200.0  -750.0 -4.42  2.488320e+09\n",
              "941  000545    흥국화재우  KOSPI     보험    6150.0  -110.0 -1.76  4.723200e+09\n",
              "942  003280     흥아해운  KOSPI  운수창고업    1355.0   -30.0 -2.17  3.257757e+11\n",
              "\n",
              "[19788 rows x 8 columns]"
            ],
            "text/html": [
              "\n",
              "  <div id=\"df-dc3b6774-0128-4b68-9cd9-050a3c6475b6\">\n",
              "    <div class=\"colab-df-container\">\n",
              "      <div>\n",
              "<style scoped>\n",
              "    .dataframe tbody tr th:only-of-type {\n",
              "        vertical-align: middle;\n",
              "    }\n",
              "\n",
              "    .dataframe tbody tr th {\n",
              "        vertical-align: top;\n",
              "    }\n",
              "\n",
              "    .dataframe thead th {\n",
              "        text-align: right;\n",
              "    }\n",
              "</style>\n",
              "<table border=\"1\" class=\"dataframe\">\n",
              "  <thead>\n",
              "    <tr style=\"text-align: right;\">\n",
              "      <th></th>\n",
              "      <th>종목코드</th>\n",
              "      <th>종목명</th>\n",
              "      <th>시장구분</th>\n",
              "      <th>업종명</th>\n",
              "      <th>종가</th>\n",
              "      <th>대비</th>\n",
              "      <th>등락률</th>\n",
              "      <th>시가총액</th>\n",
              "    </tr>\n",
              "  </thead>\n",
              "  <tbody>\n",
              "    <tr>\n",
              "      <th>0</th>\n",
              "      <td>095570</td>\n",
              "      <td>AJ네트웍스</td>\n",
              "      <td>KOSPI</td>\n",
              "      <td>서비스업</td>\n",
              "      <td>6100.0</td>\n",
              "      <td>-10.0</td>\n",
              "      <td>-0.16</td>\n",
              "      <td>2.856160e+11</td>\n",
              "    </tr>\n",
              "    <tr>\n",
              "      <th>1</th>\n",
              "      <td>006840</td>\n",
              "      <td>AK홀딩스</td>\n",
              "      <td>KOSPI</td>\n",
              "      <td>기타금융</td>\n",
              "      <td>15600.0</td>\n",
              "      <td>450.0</td>\n",
              "      <td>2.97</td>\n",
              "      <td>2.066620e+11</td>\n",
              "    </tr>\n",
              "    <tr>\n",
              "      <th>2</th>\n",
              "      <td>027410</td>\n",
              "      <td>BGF</td>\n",
              "      <td>KOSPI</td>\n",
              "      <td>기타금융</td>\n",
              "      <td>4425.0</td>\n",
              "      <td>60.0</td>\n",
              "      <td>1.37</td>\n",
              "      <td>4.235468e+11</td>\n",
              "    </tr>\n",
              "    <tr>\n",
              "      <th>3</th>\n",
              "      <td>282330</td>\n",
              "      <td>BGF리테일</td>\n",
              "      <td>KOSPI</td>\n",
              "      <td>유통업</td>\n",
              "      <td>196500.0</td>\n",
              "      <td>-9000.0</td>\n",
              "      <td>-4.38</td>\n",
              "      <td>3.396288e+12</td>\n",
              "    </tr>\n",
              "    <tr>\n",
              "      <th>4</th>\n",
              "      <td>138930</td>\n",
              "      <td>BNK금융지주</td>\n",
              "      <td>KOSPI</td>\n",
              "      <td>기타금융</td>\n",
              "      <td>7440.0</td>\n",
              "      <td>50.0</td>\n",
              "      <td>0.68</td>\n",
              "      <td>2.424958e+12</td>\n",
              "    </tr>\n",
              "    <tr>\n",
              "      <th>...</th>\n",
              "      <td>...</td>\n",
              "      <td>...</td>\n",
              "      <td>...</td>\n",
              "      <td>...</td>\n",
              "      <td>...</td>\n",
              "      <td>...</td>\n",
              "      <td>...</td>\n",
              "      <td>...</td>\n",
              "    </tr>\n",
              "    <tr>\n",
              "      <th>938</th>\n",
              "      <td>005010</td>\n",
              "      <td>휴스틸</td>\n",
              "      <td>KOSPI</td>\n",
              "      <td>철강금속</td>\n",
              "      <td>5070.0</td>\n",
              "      <td>-20.0</td>\n",
              "      <td>-0.39</td>\n",
              "      <td>2.848735e+11</td>\n",
              "    </tr>\n",
              "    <tr>\n",
              "      <th>939</th>\n",
              "      <td>000540</td>\n",
              "      <td>흥국화재</td>\n",
              "      <td>KOSPI</td>\n",
              "      <td>보험</td>\n",
              "      <td>3370.0</td>\n",
              "      <td>75.0</td>\n",
              "      <td>2.28</td>\n",
              "      <td>2.164977e+11</td>\n",
              "    </tr>\n",
              "    <tr>\n",
              "      <th>940</th>\n",
              "      <td>000547</td>\n",
              "      <td>흥국화재2우B</td>\n",
              "      <td>KOSPI</td>\n",
              "      <td>보험</td>\n",
              "      <td>16200.0</td>\n",
              "      <td>-750.0</td>\n",
              "      <td>-4.42</td>\n",
              "      <td>2.488320e+09</td>\n",
              "    </tr>\n",
              "    <tr>\n",
              "      <th>941</th>\n",
              "      <td>000545</td>\n",
              "      <td>흥국화재우</td>\n",
              "      <td>KOSPI</td>\n",
              "      <td>보험</td>\n",
              "      <td>6150.0</td>\n",
              "      <td>-110.0</td>\n",
              "      <td>-1.76</td>\n",
              "      <td>4.723200e+09</td>\n",
              "    </tr>\n",
              "    <tr>\n",
              "      <th>942</th>\n",
              "      <td>003280</td>\n",
              "      <td>흥아해운</td>\n",
              "      <td>KOSPI</td>\n",
              "      <td>운수창고업</td>\n",
              "      <td>1355.0</td>\n",
              "      <td>-30.0</td>\n",
              "      <td>-2.17</td>\n",
              "      <td>3.257757e+11</td>\n",
              "    </tr>\n",
              "  </tbody>\n",
              "</table>\n",
              "<p>19788 rows × 8 columns</p>\n",
              "</div>\n",
              "      <button class=\"colab-df-convert\" onclick=\"convertToInteractive('df-dc3b6774-0128-4b68-9cd9-050a3c6475b6')\"\n",
              "              title=\"Convert this dataframe to an interactive table.\"\n",
              "              style=\"display:none;\">\n",
              "        \n",
              "  <svg xmlns=\"http://www.w3.org/2000/svg\" height=\"24px\"viewBox=\"0 0 24 24\"\n",
              "       width=\"24px\">\n",
              "    <path d=\"M0 0h24v24H0V0z\" fill=\"none\"/>\n",
              "    <path d=\"M18.56 5.44l.94 2.06.94-2.06 2.06-.94-2.06-.94-.94-2.06-.94 2.06-2.06.94zm-11 1L8.5 8.5l.94-2.06 2.06-.94-2.06-.94L8.5 2.5l-.94 2.06-2.06.94zm10 10l.94 2.06.94-2.06 2.06-.94-2.06-.94-.94-2.06-.94 2.06-2.06.94z\"/><path d=\"M17.41 7.96l-1.37-1.37c-.4-.4-.92-.59-1.43-.59-.52 0-1.04.2-1.43.59L10.3 9.45l-7.72 7.72c-.78.78-.78 2.05 0 2.83L4 21.41c.39.39.9.59 1.41.59.51 0 1.02-.2 1.41-.59l7.78-7.78 2.81-2.81c.8-.78.8-2.07 0-2.86zM5.41 20L4 18.59l7.72-7.72 1.47 1.35L5.41 20z\"/>\n",
              "  </svg>\n",
              "      </button>\n",
              "      \n",
              "  <style>\n",
              "    .colab-df-container {\n",
              "      display:flex;\n",
              "      flex-wrap:wrap;\n",
              "      gap: 12px;\n",
              "    }\n",
              "\n",
              "    .colab-df-convert {\n",
              "      background-color: #E8F0FE;\n",
              "      border: none;\n",
              "      border-radius: 50%;\n",
              "      cursor: pointer;\n",
              "      display: none;\n",
              "      fill: #1967D2;\n",
              "      height: 32px;\n",
              "      padding: 0 0 0 0;\n",
              "      width: 32px;\n",
              "    }\n",
              "\n",
              "    .colab-df-convert:hover {\n",
              "      background-color: #E2EBFA;\n",
              "      box-shadow: 0px 1px 2px rgba(60, 64, 67, 0.3), 0px 1px 3px 1px rgba(60, 64, 67, 0.15);\n",
              "      fill: #174EA6;\n",
              "    }\n",
              "\n",
              "    [theme=dark] .colab-df-convert {\n",
              "      background-color: #3B4455;\n",
              "      fill: #D2E3FC;\n",
              "    }\n",
              "\n",
              "    [theme=dark] .colab-df-convert:hover {\n",
              "      background-color: #434B5C;\n",
              "      box-shadow: 0px 1px 3px 1px rgba(0, 0, 0, 0.15);\n",
              "      filter: drop-shadow(0px 1px 2px rgba(0, 0, 0, 0.3));\n",
              "      fill: #FFFFFF;\n",
              "    }\n",
              "  </style>\n",
              "\n",
              "      <script>\n",
              "        const buttonEl =\n",
              "          document.querySelector('#df-dc3b6774-0128-4b68-9cd9-050a3c6475b6 button.colab-df-convert');\n",
              "        buttonEl.style.display =\n",
              "          google.colab.kernel.accessAllowed ? 'block' : 'none';\n",
              "\n",
              "        async function convertToInteractive(key) {\n",
              "          const element = document.querySelector('#df-dc3b6774-0128-4b68-9cd9-050a3c6475b6');\n",
              "          const dataTable =\n",
              "            await google.colab.kernel.invokeFunction('convertToInteractive',\n",
              "                                                     [key], {});\n",
              "          if (!dataTable) return;\n",
              "\n",
              "          const docLinkHtml = 'Like what you see? Visit the ' +\n",
              "            '<a target=\"_blank\" href=https://colab.research.google.com/notebooks/data_table.ipynb>data table notebook</a>'\n",
              "            + ' to learn more about interactive tables.';\n",
              "          element.innerHTML = '';\n",
              "          dataTable['output_type'] = 'display_data';\n",
              "          await google.colab.output.renderOutput(dataTable, element);\n",
              "          const docLink = document.createElement('div');\n",
              "          docLink.innerHTML = docLinkHtml;\n",
              "          element.appendChild(docLink);\n",
              "        }\n",
              "      </script>\n",
              "    </div>\n",
              "  </div>\n",
              "  "
            ]
          },
          "metadata": {},
          "execution_count": 45
        }
      ]
    },
    {
      "cell_type": "code",
      "source": [
        "sector_data=Total_data[[\"종목코드\", \"종목명\",\"업종명\",\"등락률\"]]\n",
        "  \n",
        "sector_data"
      ],
      "metadata": {
        "colab": {
          "base_uri": "https://localhost:8080/",
          "height": 419
        },
        "id": "e72ust00aQrp",
        "outputId": "c55611d0-27fa-4b0d-e48d-cd80a87f9e1d"
      },
      "execution_count": 46,
      "outputs": [
        {
          "output_type": "execute_result",
          "data": {
            "text/plain": [
              "       종목코드      종목명    업종명   등락률\n",
              "0    095570   AJ네트웍스   서비스업 -0.16\n",
              "1    006840    AK홀딩스   기타금융  2.97\n",
              "2    027410      BGF   기타금융  1.37\n",
              "3    282330   BGF리테일    유통업 -4.38\n",
              "4    138930  BNK금융지주   기타금융  0.68\n",
              "..      ...      ...    ...   ...\n",
              "938  005010      휴스틸   철강금속 -0.39\n",
              "939  000540     흥국화재     보험  2.28\n",
              "940  000547  흥국화재2우B     보험 -4.42\n",
              "941  000545    흥국화재우     보험 -1.76\n",
              "942  003280     흥아해운  운수창고업 -2.17\n",
              "\n",
              "[19788 rows x 4 columns]"
            ],
            "text/html": [
              "\n",
              "  <div id=\"df-686e5e66-9ad5-4546-9d81-6a56f9096a33\">\n",
              "    <div class=\"colab-df-container\">\n",
              "      <div>\n",
              "<style scoped>\n",
              "    .dataframe tbody tr th:only-of-type {\n",
              "        vertical-align: middle;\n",
              "    }\n",
              "\n",
              "    .dataframe tbody tr th {\n",
              "        vertical-align: top;\n",
              "    }\n",
              "\n",
              "    .dataframe thead th {\n",
              "        text-align: right;\n",
              "    }\n",
              "</style>\n",
              "<table border=\"1\" class=\"dataframe\">\n",
              "  <thead>\n",
              "    <tr style=\"text-align: right;\">\n",
              "      <th></th>\n",
              "      <th>종목코드</th>\n",
              "      <th>종목명</th>\n",
              "      <th>업종명</th>\n",
              "      <th>등락률</th>\n",
              "    </tr>\n",
              "  </thead>\n",
              "  <tbody>\n",
              "    <tr>\n",
              "      <th>0</th>\n",
              "      <td>095570</td>\n",
              "      <td>AJ네트웍스</td>\n",
              "      <td>서비스업</td>\n",
              "      <td>-0.16</td>\n",
              "    </tr>\n",
              "    <tr>\n",
              "      <th>1</th>\n",
              "      <td>006840</td>\n",
              "      <td>AK홀딩스</td>\n",
              "      <td>기타금융</td>\n",
              "      <td>2.97</td>\n",
              "    </tr>\n",
              "    <tr>\n",
              "      <th>2</th>\n",
              "      <td>027410</td>\n",
              "      <td>BGF</td>\n",
              "      <td>기타금융</td>\n",
              "      <td>1.37</td>\n",
              "    </tr>\n",
              "    <tr>\n",
              "      <th>3</th>\n",
              "      <td>282330</td>\n",
              "      <td>BGF리테일</td>\n",
              "      <td>유통업</td>\n",
              "      <td>-4.38</td>\n",
              "    </tr>\n",
              "    <tr>\n",
              "      <th>4</th>\n",
              "      <td>138930</td>\n",
              "      <td>BNK금융지주</td>\n",
              "      <td>기타금융</td>\n",
              "      <td>0.68</td>\n",
              "    </tr>\n",
              "    <tr>\n",
              "      <th>...</th>\n",
              "      <td>...</td>\n",
              "      <td>...</td>\n",
              "      <td>...</td>\n",
              "      <td>...</td>\n",
              "    </tr>\n",
              "    <tr>\n",
              "      <th>938</th>\n",
              "      <td>005010</td>\n",
              "      <td>휴스틸</td>\n",
              "      <td>철강금속</td>\n",
              "      <td>-0.39</td>\n",
              "    </tr>\n",
              "    <tr>\n",
              "      <th>939</th>\n",
              "      <td>000540</td>\n",
              "      <td>흥국화재</td>\n",
              "      <td>보험</td>\n",
              "      <td>2.28</td>\n",
              "    </tr>\n",
              "    <tr>\n",
              "      <th>940</th>\n",
              "      <td>000547</td>\n",
              "      <td>흥국화재2우B</td>\n",
              "      <td>보험</td>\n",
              "      <td>-4.42</td>\n",
              "    </tr>\n",
              "    <tr>\n",
              "      <th>941</th>\n",
              "      <td>000545</td>\n",
              "      <td>흥국화재우</td>\n",
              "      <td>보험</td>\n",
              "      <td>-1.76</td>\n",
              "    </tr>\n",
              "    <tr>\n",
              "      <th>942</th>\n",
              "      <td>003280</td>\n",
              "      <td>흥아해운</td>\n",
              "      <td>운수창고업</td>\n",
              "      <td>-2.17</td>\n",
              "    </tr>\n",
              "  </tbody>\n",
              "</table>\n",
              "<p>19788 rows × 4 columns</p>\n",
              "</div>\n",
              "      <button class=\"colab-df-convert\" onclick=\"convertToInteractive('df-686e5e66-9ad5-4546-9d81-6a56f9096a33')\"\n",
              "              title=\"Convert this dataframe to an interactive table.\"\n",
              "              style=\"display:none;\">\n",
              "        \n",
              "  <svg xmlns=\"http://www.w3.org/2000/svg\" height=\"24px\"viewBox=\"0 0 24 24\"\n",
              "       width=\"24px\">\n",
              "    <path d=\"M0 0h24v24H0V0z\" fill=\"none\"/>\n",
              "    <path d=\"M18.56 5.44l.94 2.06.94-2.06 2.06-.94-2.06-.94-.94-2.06-.94 2.06-2.06.94zm-11 1L8.5 8.5l.94-2.06 2.06-.94-2.06-.94L8.5 2.5l-.94 2.06-2.06.94zm10 10l.94 2.06.94-2.06 2.06-.94-2.06-.94-.94-2.06-.94 2.06-2.06.94z\"/><path d=\"M17.41 7.96l-1.37-1.37c-.4-.4-.92-.59-1.43-.59-.52 0-1.04.2-1.43.59L10.3 9.45l-7.72 7.72c-.78.78-.78 2.05 0 2.83L4 21.41c.39.39.9.59 1.41.59.51 0 1.02-.2 1.41-.59l7.78-7.78 2.81-2.81c.8-.78.8-2.07 0-2.86zM5.41 20L4 18.59l7.72-7.72 1.47 1.35L5.41 20z\"/>\n",
              "  </svg>\n",
              "      </button>\n",
              "      \n",
              "  <style>\n",
              "    .colab-df-container {\n",
              "      display:flex;\n",
              "      flex-wrap:wrap;\n",
              "      gap: 12px;\n",
              "    }\n",
              "\n",
              "    .colab-df-convert {\n",
              "      background-color: #E8F0FE;\n",
              "      border: none;\n",
              "      border-radius: 50%;\n",
              "      cursor: pointer;\n",
              "      display: none;\n",
              "      fill: #1967D2;\n",
              "      height: 32px;\n",
              "      padding: 0 0 0 0;\n",
              "      width: 32px;\n",
              "    }\n",
              "\n",
              "    .colab-df-convert:hover {\n",
              "      background-color: #E2EBFA;\n",
              "      box-shadow: 0px 1px 2px rgba(60, 64, 67, 0.3), 0px 1px 3px 1px rgba(60, 64, 67, 0.15);\n",
              "      fill: #174EA6;\n",
              "    }\n",
              "\n",
              "    [theme=dark] .colab-df-convert {\n",
              "      background-color: #3B4455;\n",
              "      fill: #D2E3FC;\n",
              "    }\n",
              "\n",
              "    [theme=dark] .colab-df-convert:hover {\n",
              "      background-color: #434B5C;\n",
              "      box-shadow: 0px 1px 3px 1px rgba(0, 0, 0, 0.15);\n",
              "      filter: drop-shadow(0px 1px 2px rgba(0, 0, 0, 0.3));\n",
              "      fill: #FFFFFF;\n",
              "    }\n",
              "  </style>\n",
              "\n",
              "      <script>\n",
              "        const buttonEl =\n",
              "          document.querySelector('#df-686e5e66-9ad5-4546-9d81-6a56f9096a33 button.colab-df-convert');\n",
              "        buttonEl.style.display =\n",
              "          google.colab.kernel.accessAllowed ? 'block' : 'none';\n",
              "\n",
              "        async function convertToInteractive(key) {\n",
              "          const element = document.querySelector('#df-686e5e66-9ad5-4546-9d81-6a56f9096a33');\n",
              "          const dataTable =\n",
              "            await google.colab.kernel.invokeFunction('convertToInteractive',\n",
              "                                                     [key], {});\n",
              "          if (!dataTable) return;\n",
              "\n",
              "          const docLinkHtml = 'Like what you see? Visit the ' +\n",
              "            '<a target=\"_blank\" href=https://colab.research.google.com/notebooks/data_table.ipynb>data table notebook</a>'\n",
              "            + ' to learn more about interactive tables.';\n",
              "          element.innerHTML = '';\n",
              "          dataTable['output_type'] = 'display_data';\n",
              "          await google.colab.output.renderOutput(dataTable, element);\n",
              "          const docLink = document.createElement('div');\n",
              "          docLink.innerHTML = docLinkHtml;\n",
              "          element.appendChild(docLink);\n",
              "        }\n",
              "      </script>\n",
              "    </div>\n",
              "  </div>\n",
              "  "
            ]
          },
          "metadata": {},
          "execution_count": 46
        }
      ]
    },
    {
      "cell_type": "code",
      "source": [
        "sector_data"
      ],
      "metadata": {
        "colab": {
          "base_uri": "https://localhost:8080/",
          "height": 419
        },
        "id": "_kY_kbJ8iPLB",
        "outputId": "c0019064-ecbc-4aa7-886d-8dd5bc5f88cf"
      },
      "execution_count": 77,
      "outputs": [
        {
          "output_type": "execute_result",
          "data": {
            "text/plain": [
              "       종목코드      종목명    업종명   등락률\n",
              "0    095570   AJ네트웍스   서비스업 -0.16\n",
              "1    006840    AK홀딩스   기타금융  2.97\n",
              "2    027410      BGF   기타금융  1.37\n",
              "3    282330   BGF리테일    유통업 -4.38\n",
              "4    138930  BNK금융지주   기타금융  0.68\n",
              "..      ...      ...    ...   ...\n",
              "938  005010      휴스틸   철강금속 -0.39\n",
              "939  000540     흥국화재     보험  2.28\n",
              "940  000547  흥국화재2우B     보험 -4.42\n",
              "941  000545    흥국화재우     보험 -1.76\n",
              "942  003280     흥아해운  운수창고업 -2.17\n",
              "\n",
              "[19788 rows x 4 columns]"
            ],
            "text/html": [
              "\n",
              "  <div id=\"df-500fd462-b9fa-4432-b1fb-2b85a473ef1e\">\n",
              "    <div class=\"colab-df-container\">\n",
              "      <div>\n",
              "<style scoped>\n",
              "    .dataframe tbody tr th:only-of-type {\n",
              "        vertical-align: middle;\n",
              "    }\n",
              "\n",
              "    .dataframe tbody tr th {\n",
              "        vertical-align: top;\n",
              "    }\n",
              "\n",
              "    .dataframe thead th {\n",
              "        text-align: right;\n",
              "    }\n",
              "</style>\n",
              "<table border=\"1\" class=\"dataframe\">\n",
              "  <thead>\n",
              "    <tr style=\"text-align: right;\">\n",
              "      <th></th>\n",
              "      <th>종목코드</th>\n",
              "      <th>종목명</th>\n",
              "      <th>업종명</th>\n",
              "      <th>등락률</th>\n",
              "    </tr>\n",
              "  </thead>\n",
              "  <tbody>\n",
              "    <tr>\n",
              "      <th>0</th>\n",
              "      <td>095570</td>\n",
              "      <td>AJ네트웍스</td>\n",
              "      <td>서비스업</td>\n",
              "      <td>-0.16</td>\n",
              "    </tr>\n",
              "    <tr>\n",
              "      <th>1</th>\n",
              "      <td>006840</td>\n",
              "      <td>AK홀딩스</td>\n",
              "      <td>기타금융</td>\n",
              "      <td>2.97</td>\n",
              "    </tr>\n",
              "    <tr>\n",
              "      <th>2</th>\n",
              "      <td>027410</td>\n",
              "      <td>BGF</td>\n",
              "      <td>기타금융</td>\n",
              "      <td>1.37</td>\n",
              "    </tr>\n",
              "    <tr>\n",
              "      <th>3</th>\n",
              "      <td>282330</td>\n",
              "      <td>BGF리테일</td>\n",
              "      <td>유통업</td>\n",
              "      <td>-4.38</td>\n",
              "    </tr>\n",
              "    <tr>\n",
              "      <th>4</th>\n",
              "      <td>138930</td>\n",
              "      <td>BNK금융지주</td>\n",
              "      <td>기타금융</td>\n",
              "      <td>0.68</td>\n",
              "    </tr>\n",
              "    <tr>\n",
              "      <th>...</th>\n",
              "      <td>...</td>\n",
              "      <td>...</td>\n",
              "      <td>...</td>\n",
              "      <td>...</td>\n",
              "    </tr>\n",
              "    <tr>\n",
              "      <th>938</th>\n",
              "      <td>005010</td>\n",
              "      <td>휴스틸</td>\n",
              "      <td>철강금속</td>\n",
              "      <td>-0.39</td>\n",
              "    </tr>\n",
              "    <tr>\n",
              "      <th>939</th>\n",
              "      <td>000540</td>\n",
              "      <td>흥국화재</td>\n",
              "      <td>보험</td>\n",
              "      <td>2.28</td>\n",
              "    </tr>\n",
              "    <tr>\n",
              "      <th>940</th>\n",
              "      <td>000547</td>\n",
              "      <td>흥국화재2우B</td>\n",
              "      <td>보험</td>\n",
              "      <td>-4.42</td>\n",
              "    </tr>\n",
              "    <tr>\n",
              "      <th>941</th>\n",
              "      <td>000545</td>\n",
              "      <td>흥국화재우</td>\n",
              "      <td>보험</td>\n",
              "      <td>-1.76</td>\n",
              "    </tr>\n",
              "    <tr>\n",
              "      <th>942</th>\n",
              "      <td>003280</td>\n",
              "      <td>흥아해운</td>\n",
              "      <td>운수창고업</td>\n",
              "      <td>-2.17</td>\n",
              "    </tr>\n",
              "  </tbody>\n",
              "</table>\n",
              "<p>19788 rows × 4 columns</p>\n",
              "</div>\n",
              "      <button class=\"colab-df-convert\" onclick=\"convertToInteractive('df-500fd462-b9fa-4432-b1fb-2b85a473ef1e')\"\n",
              "              title=\"Convert this dataframe to an interactive table.\"\n",
              "              style=\"display:none;\">\n",
              "        \n",
              "  <svg xmlns=\"http://www.w3.org/2000/svg\" height=\"24px\"viewBox=\"0 0 24 24\"\n",
              "       width=\"24px\">\n",
              "    <path d=\"M0 0h24v24H0V0z\" fill=\"none\"/>\n",
              "    <path d=\"M18.56 5.44l.94 2.06.94-2.06 2.06-.94-2.06-.94-.94-2.06-.94 2.06-2.06.94zm-11 1L8.5 8.5l.94-2.06 2.06-.94-2.06-.94L8.5 2.5l-.94 2.06-2.06.94zm10 10l.94 2.06.94-2.06 2.06-.94-2.06-.94-.94-2.06-.94 2.06-2.06.94z\"/><path d=\"M17.41 7.96l-1.37-1.37c-.4-.4-.92-.59-1.43-.59-.52 0-1.04.2-1.43.59L10.3 9.45l-7.72 7.72c-.78.78-.78 2.05 0 2.83L4 21.41c.39.39.9.59 1.41.59.51 0 1.02-.2 1.41-.59l7.78-7.78 2.81-2.81c.8-.78.8-2.07 0-2.86zM5.41 20L4 18.59l7.72-7.72 1.47 1.35L5.41 20z\"/>\n",
              "  </svg>\n",
              "      </button>\n",
              "      \n",
              "  <style>\n",
              "    .colab-df-container {\n",
              "      display:flex;\n",
              "      flex-wrap:wrap;\n",
              "      gap: 12px;\n",
              "    }\n",
              "\n",
              "    .colab-df-convert {\n",
              "      background-color: #E8F0FE;\n",
              "      border: none;\n",
              "      border-radius: 50%;\n",
              "      cursor: pointer;\n",
              "      display: none;\n",
              "      fill: #1967D2;\n",
              "      height: 32px;\n",
              "      padding: 0 0 0 0;\n",
              "      width: 32px;\n",
              "    }\n",
              "\n",
              "    .colab-df-convert:hover {\n",
              "      background-color: #E2EBFA;\n",
              "      box-shadow: 0px 1px 2px rgba(60, 64, 67, 0.3), 0px 1px 3px 1px rgba(60, 64, 67, 0.15);\n",
              "      fill: #174EA6;\n",
              "    }\n",
              "\n",
              "    [theme=dark] .colab-df-convert {\n",
              "      background-color: #3B4455;\n",
              "      fill: #D2E3FC;\n",
              "    }\n",
              "\n",
              "    [theme=dark] .colab-df-convert:hover {\n",
              "      background-color: #434B5C;\n",
              "      box-shadow: 0px 1px 3px 1px rgba(0, 0, 0, 0.15);\n",
              "      filter: drop-shadow(0px 1px 2px rgba(0, 0, 0, 0.3));\n",
              "      fill: #FFFFFF;\n",
              "    }\n",
              "  </style>\n",
              "\n",
              "      <script>\n",
              "        const buttonEl =\n",
              "          document.querySelector('#df-500fd462-b9fa-4432-b1fb-2b85a473ef1e button.colab-df-convert');\n",
              "        buttonEl.style.display =\n",
              "          google.colab.kernel.accessAllowed ? 'block' : 'none';\n",
              "\n",
              "        async function convertToInteractive(key) {\n",
              "          const element = document.querySelector('#df-500fd462-b9fa-4432-b1fb-2b85a473ef1e');\n",
              "          const dataTable =\n",
              "            await google.colab.kernel.invokeFunction('convertToInteractive',\n",
              "                                                     [key], {});\n",
              "          if (!dataTable) return;\n",
              "\n",
              "          const docLinkHtml = 'Like what you see? Visit the ' +\n",
              "            '<a target=\"_blank\" href=https://colab.research.google.com/notebooks/data_table.ipynb>data table notebook</a>'\n",
              "            + ' to learn more about interactive tables.';\n",
              "          element.innerHTML = '';\n",
              "          dataTable['output_type'] = 'display_data';\n",
              "          await google.colab.output.renderOutput(dataTable, element);\n",
              "          const docLink = document.createElement('div');\n",
              "          docLink.innerHTML = docLinkHtml;\n",
              "          element.appendChild(docLink);\n",
              "        }\n",
              "      </script>\n",
              "    </div>\n",
              "  </div>\n",
              "  "
            ]
          },
          "metadata": {},
          "execution_count": 77
        }
      ]
    },
    {
      "cell_type": "code",
      "source": [
        "sector_list = set()"
      ],
      "metadata": {
        "id": "zBJgm7WhjAM4"
      },
      "execution_count": 71,
      "outputs": []
    },
    {
      "cell_type": "code",
      "source": [
        "for i in range(len(sector_data)):\n",
        "  sector_list.add(sector_data.iloc[i]['업종명'])\n",
        "sector_list = list(sector_list)"
      ],
      "metadata": {
        "id": "eDsSpsYYjFKZ"
      },
      "execution_count": 72,
      "outputs": []
    },
    {
      "cell_type": "code",
      "source": [
        "print(sector_list)"
      ],
      "metadata": {
        "colab": {
          "base_uri": "https://localhost:8080/"
        },
        "id": "Jq5m4Wnoj5p8",
        "outputId": "72a36e73-c37e-47c1-8c98-f2e702d87f57"
      },
      "execution_count": 73,
      "outputs": [
        {
          "output_type": "stream",
          "name": "stdout",
          "text": [
            "['비금속광물', '서비스업', '화학', '음식료품', '증권', '의료정밀', '유통업', '건설업', '기타금융', '농업, 임업 및 어업', '운수장비', '전기전자', '의약품', '섬유의복', '철강금속', '은행', '보험', '종이목재', '광업', '운수창고업', '기계', '전기가스업', '통신업', '기타제조업']\n"
          ]
        }
      ]
    },
    {
      "cell_type": "code",
      "source": [
        "aaa = {}\n",
        "print(type(aaa))\n",
        "for i in range(len(sector_list)):\n",
        "  aaa[sector_list[i]] = []\n",
        "print(aaa)"
      ],
      "metadata": {
        "colab": {
          "base_uri": "https://localhost:8080/"
        },
        "id": "pXmQpsvI26Jz",
        "outputId": "c1de53cd-f29b-4567-c4ac-bacebfbb1be2"
      },
      "execution_count": 74,
      "outputs": [
        {
          "output_type": "stream",
          "name": "stdout",
          "text": [
            "<class 'dict'>\n",
            "{'비금속광물': [], '서비스업': [], '화학': [], '음식료품': [], '증권': [], '의료정밀': [], '유통업': [], '건설업': [], '기타금융': [], '농업, 임업 및 어업': [], '운수장비': [], '전기전자': [], '의약품': [], '섬유의복': [], '철강금속': [], '은행': [], '보험': [], '종이목재': [], '광업': [], '운수창고업': [], '기계': [], '전기가스업': [], '통신업': [], '기타제조업': []}\n"
          ]
        }
      ]
    },
    {
      "cell_type": "code",
      "source": [
        "dr_ave = dict()\n",
        "for i in range(len(sector_list)):\n",
        "  dr_ave[sector_list[i]] = []\n",
        "  #print(\"------------- \" + sector_list[i] + \"------------- \")\n",
        "\n",
        "for i in range(len(sector_list)):\n",
        "  \n",
        "  now_sector = sector_data.loc[sector_data[\"업종명\"] == sector_list[i] , :]\n",
        "  ave_result = now_sector[[\"등락률\"]].mean()\n",
        "  # print(type(ave_result))\n",
        "  # print(ave_result[0])\n",
        "  \n",
        "  dr_ave[sector_list[i]].append(ave_result[0])\n",
        "  # tp_business.append(ave_result)\n",
        "  # print(type(now_sector))\n",
        "  # print(now_sector)\n",
        "print(dr_ave)\n",
        "unsu = sector_data.loc[sector_data['업종명'] == \"운수창고업\" , :]\n",
        "\n"
      ],
      "metadata": {
        "colab": {
          "base_uri": "https://localhost:8080/"
        },
        "id": "d1WtJZ4gi5kX",
        "outputId": "35e6f744-15b6-422a-ed5b-ee2ed2690cd2"
      },
      "execution_count": 75,
      "outputs": [
        {
          "output_type": "stream",
          "name": "stdout",
          "text": [
            "{'비금속광물': [-0.3528937728937729], '서비스업': [-0.16630476190476193], '화학': [-0.3079811097992916], '음식료품': [-0.002981366459627332], '증권': [-0.39689708141321034], '의료정밀': [-0.1338095238095238], '유통업': [-0.3372423596304194], '건설업': [-0.613546365914787], '기타금융': [-0.09909994767137624], '농업, 임업 및 어업': [0.02023809523809525], '운수장비': [-0.5199194139194139], '전기전자': [-0.542468671679198], '의약품': [0.09072386058981242], '섬유의복': [-0.3680190476190477], '철강금속': [-0.5296886446886447], '은행': [-0.04777777777777784], '보험': [-0.03396825396825395], '종이목재': [-0.30776190476190474], '광업': [-0.889047619047619], '운수창고업': [0.04947278911564628], '기계': [-0.39072562358276647], '전기가스업': [-0.16680952380952382], '통신업': [-0.4675238095238095], '기타제조업': [-0.2704126984126985]}\n"
          ]
        }
      ]
    },
    {
      "cell_type": "code",
      "source": [
        "tp = sector_data.loc[sector_data['업종명'] == \"운수창고업\" , :]\n",
        "print(type(tp))\n",
        "# print(tp)\n",
        "print(len(tp))\n",
        "print(tp[[\"등락률\"]].mean())\n",
        "# tp[[\"등락률\"]].iloc[0]"
      ],
      "metadata": {
        "colab": {
          "base_uri": "https://localhost:8080/"
        },
        "id": "EmSjz3TOpSNd",
        "outputId": "300088aa-fdb2-464f-c631-3e9f0ca7348e"
      },
      "execution_count": 67,
      "outputs": [
        {
          "output_type": "stream",
          "name": "stdout",
          "text": [
            "<class 'pandas.core.frame.DataFrame'>\n",
            "588\n",
            "등락률    0.049473\n",
            "dtype: float64\n"
          ]
        }
      ]
    },
    {
      "cell_type": "code",
      "source": [
        "len(tp)"
      ],
      "metadata": {
        "colab": {
          "base_uri": "https://localhost:8080/"
        },
        "id": "D3K7DzoTavTf",
        "outputId": "0be583ab-471a-4121-c4fb-d91ca3507f77"
      },
      "execution_count": 23,
      "outputs": [
        {
          "output_type": "execute_result",
          "data": {
            "text/plain": [
              "28"
            ]
          },
          "metadata": {},
          "execution_count": 23
        }
      ]
    },
    {
      "cell_type": "code",
      "source": [
        "elec=sector_data.loc[sector_data['업종명']==\"전기전자\", :]\n",
        "elec[[\"등락률\"]].iloc[0]"
      ],
      "metadata": {
        "colab": {
          "base_uri": "https://localhost:8080/"
        },
        "id": "1OWnFPnC1J49",
        "outputId": "d1d7c20d-b785-4ec2-e22a-ca12d25b5430"
      },
      "execution_count": 24,
      "outputs": [
        {
          "output_type": "execute_result",
          "data": {
            "text/plain": [
              "등락률    3.25\n",
              "Name: 20, dtype: float64"
            ]
          },
          "metadata": {},
          "execution_count": 24
        }
      ]
    },
    {
      "cell_type": "code",
      "source": [
        "len(elec)"
      ],
      "metadata": {
        "colab": {
          "base_uri": "https://localhost:8080/"
        },
        "id": "SItQKdro1bbE",
        "outputId": "65e58592-7ab1-4dcc-9fe4-3d0e39273492"
      },
      "execution_count": 25,
      "outputs": [
        {
          "output_type": "execute_result",
          "data": {
            "text/plain": [
              "76"
            ]
          },
          "metadata": {},
          "execution_count": 25
        }
      ]
    },
    {
      "cell_type": "code",
      "source": [
        "sum = 0\n",
        "for i in range(len(tp[[\"등락률\"]])):\n",
        "  sum += tp[[\"등락률\"]].iloc[i]\n",
        "avg_tp=sum / len(tp[[\"등락률\"]])\n",
        "avg_tp"
      ],
      "metadata": {
        "id": "CsT7DKVS1g-r",
        "colab": {
          "base_uri": "https://localhost:8080/"
        },
        "outputId": "f3093a89-98c5-4f9a-8e25-abb977cf1332"
      },
      "execution_count": 26,
      "outputs": [
        {
          "output_type": "execute_result",
          "data": {
            "text/plain": [
              "등락률    1.177143\n",
              "Name: 10, dtype: float64"
            ]
          },
          "metadata": {},
          "execution_count": 26
        }
      ]
    },
    {
      "cell_type": "code",
      "source": [
        "sector_list"
      ],
      "metadata": {
        "colab": {
          "base_uri": "https://localhost:8080/"
        },
        "id": "Jvj_OXX2yV9V",
        "outputId": "b5b8eb7a-ebdc-417d-8afa-28be09b7b046"
      },
      "execution_count": 27,
      "outputs": [
        {
          "output_type": "execute_result",
          "data": {
            "text/plain": [
              "['비금속광물',\n",
              " '서비스업',\n",
              " '화학',\n",
              " '음식료품',\n",
              " '증권',\n",
              " '의료정밀',\n",
              " '유통업',\n",
              " '건설업',\n",
              " '기타금융',\n",
              " '농업, 임업 및 어업',\n",
              " '운수장비',\n",
              " '전기전자',\n",
              " '의약품',\n",
              " '섬유의복',\n",
              " '철강금속',\n",
              " '은행',\n",
              " '보험',\n",
              " '종이목재',\n",
              " '광업',\n",
              " '운수창고업',\n",
              " '기계',\n",
              " '전기가스업',\n",
              " '통신업',\n",
              " '기타제조업']"
            ]
          },
          "metadata": {},
          "execution_count": 27
        }
      ]
    },
    {
      "cell_type": "code",
      "source": [
        "sum = 0\n",
        "for i in range(len(tp[[\"등락률\"]])):\n",
        "  sum += tp[[\"등락률\"]].iloc[i]\n",
        "avg_tp=sum / len(tp[[\"등락률\"]])\n",
        "avg_tp"
      ],
      "metadata": {
        "id": "LLwch66ki403",
        "colab": {
          "base_uri": "https://localhost:8080/"
        },
        "outputId": "8edc45ef-da04-4750-d310-caf09c609932"
      },
      "execution_count": null,
      "outputs": [
        {
          "output_type": "execute_result",
          "data": {
            "text/plain": [
              "등락률    1.177143\n",
              "Name: 10, dtype: float64"
            ]
          },
          "metadata": {},
          "execution_count": 57
        }
      ]
    },
    {
      "cell_type": "code",
      "source": [
        "tp = sector_data.loc[sector_data['업종명'] == \"\" , :]\n",
        "tp[[\"등락률\"]].iloc[0]"
      ],
      "metadata": {
        "colab": {
          "base_uri": "https://localhost:8080/",
          "height": 324
        },
        "id": "R0jzU47VbfIH",
        "outputId": "6a4b0ec8-3a7b-4fc0-8f75-572418337533"
      },
      "execution_count": 76,
      "outputs": [
        {
          "output_type": "error",
          "ename": "IndexError",
          "evalue": "ignored",
          "traceback": [
            "\u001b[0;31m---------------------------------------------------------------------------\u001b[0m",
            "\u001b[0;31mIndexError\u001b[0m                                Traceback (most recent call last)",
            "\u001b[0;32m<ipython-input-76-94132d81ea8d>\u001b[0m in \u001b[0;36m<module>\u001b[0;34m\u001b[0m\n\u001b[1;32m      1\u001b[0m \u001b[0mtp\u001b[0m \u001b[0;34m=\u001b[0m \u001b[0msector_data\u001b[0m\u001b[0;34m.\u001b[0m\u001b[0mloc\u001b[0m\u001b[0;34m[\u001b[0m\u001b[0msector_data\u001b[0m\u001b[0;34m[\u001b[0m\u001b[0;34m'업종명'\u001b[0m\u001b[0;34m]\u001b[0m \u001b[0;34m==\u001b[0m \u001b[0;34m\"\"\u001b[0m \u001b[0;34m,\u001b[0m \u001b[0;34m:\u001b[0m\u001b[0;34m]\u001b[0m\u001b[0;34m\u001b[0m\u001b[0;34m\u001b[0m\u001b[0m\n\u001b[0;32m----> 2\u001b[0;31m \u001b[0mtp\u001b[0m\u001b[0;34m[\u001b[0m\u001b[0;34m[\u001b[0m\u001b[0;34m\"등락률\"\u001b[0m\u001b[0;34m]\u001b[0m\u001b[0;34m]\u001b[0m\u001b[0;34m.\u001b[0m\u001b[0miloc\u001b[0m\u001b[0;34m[\u001b[0m\u001b[0;36m0\u001b[0m\u001b[0;34m]\u001b[0m\u001b[0;34m\u001b[0m\u001b[0;34m\u001b[0m\u001b[0m\n\u001b[0m",
            "\u001b[0;32m/usr/local/lib/python3.8/dist-packages/pandas/core/indexing.py\u001b[0m in \u001b[0;36m__getitem__\u001b[0;34m(self, key)\u001b[0m\n\u001b[1;32m    929\u001b[0m \u001b[0;34m\u001b[0m\u001b[0m\n\u001b[1;32m    930\u001b[0m             \u001b[0mmaybe_callable\u001b[0m \u001b[0;34m=\u001b[0m \u001b[0mcom\u001b[0m\u001b[0;34m.\u001b[0m\u001b[0mapply_if_callable\u001b[0m\u001b[0;34m(\u001b[0m\u001b[0mkey\u001b[0m\u001b[0;34m,\u001b[0m \u001b[0mself\u001b[0m\u001b[0;34m.\u001b[0m\u001b[0mobj\u001b[0m\u001b[0;34m)\u001b[0m\u001b[0;34m\u001b[0m\u001b[0;34m\u001b[0m\u001b[0m\n\u001b[0;32m--> 931\u001b[0;31m             \u001b[0;32mreturn\u001b[0m \u001b[0mself\u001b[0m\u001b[0;34m.\u001b[0m\u001b[0m_getitem_axis\u001b[0m\u001b[0;34m(\u001b[0m\u001b[0mmaybe_callable\u001b[0m\u001b[0;34m,\u001b[0m \u001b[0maxis\u001b[0m\u001b[0;34m=\u001b[0m\u001b[0maxis\u001b[0m\u001b[0;34m)\u001b[0m\u001b[0;34m\u001b[0m\u001b[0;34m\u001b[0m\u001b[0m\n\u001b[0m\u001b[1;32m    932\u001b[0m \u001b[0;34m\u001b[0m\u001b[0m\n\u001b[1;32m    933\u001b[0m     \u001b[0;32mdef\u001b[0m \u001b[0m_is_scalar_access\u001b[0m\u001b[0;34m(\u001b[0m\u001b[0mself\u001b[0m\u001b[0;34m,\u001b[0m \u001b[0mkey\u001b[0m\u001b[0;34m:\u001b[0m \u001b[0mtuple\u001b[0m\u001b[0;34m)\u001b[0m\u001b[0;34m:\u001b[0m\u001b[0;34m\u001b[0m\u001b[0;34m\u001b[0m\u001b[0m\n",
            "\u001b[0;32m/usr/local/lib/python3.8/dist-packages/pandas/core/indexing.py\u001b[0m in \u001b[0;36m_getitem_axis\u001b[0;34m(self, key, axis)\u001b[0m\n\u001b[1;32m   1564\u001b[0m \u001b[0;34m\u001b[0m\u001b[0m\n\u001b[1;32m   1565\u001b[0m             \u001b[0;31m# validate the location\u001b[0m\u001b[0;34m\u001b[0m\u001b[0;34m\u001b[0m\u001b[0;34m\u001b[0m\u001b[0m\n\u001b[0;32m-> 1566\u001b[0;31m             \u001b[0mself\u001b[0m\u001b[0;34m.\u001b[0m\u001b[0m_validate_integer\u001b[0m\u001b[0;34m(\u001b[0m\u001b[0mkey\u001b[0m\u001b[0;34m,\u001b[0m \u001b[0maxis\u001b[0m\u001b[0;34m)\u001b[0m\u001b[0;34m\u001b[0m\u001b[0;34m\u001b[0m\u001b[0m\n\u001b[0m\u001b[1;32m   1567\u001b[0m \u001b[0;34m\u001b[0m\u001b[0m\n\u001b[1;32m   1568\u001b[0m             \u001b[0;32mreturn\u001b[0m \u001b[0mself\u001b[0m\u001b[0;34m.\u001b[0m\u001b[0mobj\u001b[0m\u001b[0;34m.\u001b[0m\u001b[0m_ixs\u001b[0m\u001b[0;34m(\u001b[0m\u001b[0mkey\u001b[0m\u001b[0;34m,\u001b[0m \u001b[0maxis\u001b[0m\u001b[0;34m=\u001b[0m\u001b[0maxis\u001b[0m\u001b[0;34m)\u001b[0m\u001b[0;34m\u001b[0m\u001b[0;34m\u001b[0m\u001b[0m\n",
            "\u001b[0;32m/usr/local/lib/python3.8/dist-packages/pandas/core/indexing.py\u001b[0m in \u001b[0;36m_validate_integer\u001b[0;34m(self, key, axis)\u001b[0m\n\u001b[1;32m   1498\u001b[0m         \u001b[0mlen_axis\u001b[0m \u001b[0;34m=\u001b[0m \u001b[0mlen\u001b[0m\u001b[0;34m(\u001b[0m\u001b[0mself\u001b[0m\u001b[0;34m.\u001b[0m\u001b[0mobj\u001b[0m\u001b[0;34m.\u001b[0m\u001b[0m_get_axis\u001b[0m\u001b[0;34m(\u001b[0m\u001b[0maxis\u001b[0m\u001b[0;34m)\u001b[0m\u001b[0;34m)\u001b[0m\u001b[0;34m\u001b[0m\u001b[0;34m\u001b[0m\u001b[0m\n\u001b[1;32m   1499\u001b[0m         \u001b[0;32mif\u001b[0m \u001b[0mkey\u001b[0m \u001b[0;34m>=\u001b[0m \u001b[0mlen_axis\u001b[0m \u001b[0;32mor\u001b[0m \u001b[0mkey\u001b[0m \u001b[0;34m<\u001b[0m \u001b[0;34m-\u001b[0m\u001b[0mlen_axis\u001b[0m\u001b[0;34m:\u001b[0m\u001b[0;34m\u001b[0m\u001b[0;34m\u001b[0m\u001b[0m\n\u001b[0;32m-> 1500\u001b[0;31m             \u001b[0;32mraise\u001b[0m \u001b[0mIndexError\u001b[0m\u001b[0;34m(\u001b[0m\u001b[0;34m\"single positional indexer is out-of-bounds\"\u001b[0m\u001b[0;34m)\u001b[0m\u001b[0;34m\u001b[0m\u001b[0;34m\u001b[0m\u001b[0m\n\u001b[0m\u001b[1;32m   1501\u001b[0m \u001b[0;34m\u001b[0m\u001b[0m\n\u001b[1;32m   1502\u001b[0m     \u001b[0;31m# -------------------------------------------------------------------\u001b[0m\u001b[0;34m\u001b[0m\u001b[0;34m\u001b[0m\u001b[0;34m\u001b[0m\u001b[0m\n",
            "\u001b[0;31mIndexError\u001b[0m: single positional indexer is out-of-bounds"
          ]
        }
      ]
    },
    {
      "cell_type": "code",
      "source": [
        "def calc_average(dataFrame):\n",
        "  return 평균값"
      ],
      "metadata": {
        "id": "cKBbb0hdfA0f"
      },
      "execution_count": null,
      "outputs": []
    }
  ]
}